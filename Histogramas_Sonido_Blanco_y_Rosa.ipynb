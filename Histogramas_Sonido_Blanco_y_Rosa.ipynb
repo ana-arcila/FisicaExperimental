{
  "cells": [
    {
      "cell_type": "markdown",
      "metadata": {
        "id": "view-in-github",
        "colab_type": "text"
      },
      "source": [
        "<a href=\"https://colab.research.google.com/github/ana-arcila/FisicaExperimental/blob/main/Histogramas_Sonido_Blanco_y_Rosa.ipynb\" target=\"_parent\"><img src=\"https://colab.research.google.com/assets/colab-badge.svg\" alt=\"Open In Colab\"/></a>"
      ]
    },
    {
      "cell_type": "markdown",
      "metadata": {
        "id": "c899M1Zp61Rv"
      },
      "source": [
        "# TAREA 1-20221: Estadística, Teoréma del límite central, error estándar,  y error en el error.\n",
        "\n",
        "Nombre: Greither Scarleth Quinayás Muñoz, Ana Maria Arcila Ortiz\n",
        "\n",
        "documento: 1002959933, 1005896770\n",
        "\n",
        "______________\n",
        "\n",
        "\n",
        "##  Recopilación de datos.\n",
        "\n",
        "* Cargue el archivo proporcionado `LenaCrip.png.PNG` y abralo usando:\n",
        "\n",
        "    ```python\n",
        "    import numpy as np`\n",
        "    import pylab as plt\n",
        "    from imageio import imread\n",
        "\n",
        "    Ima = imread('LenaCrip.png.PNG')[:,:,0]\n",
        "    forma = np.shape(Ima)\n",
        "    datos = np.reshape(Ima,(np.size(Ima),1)).astype('int')[:,0]\n",
        "    print('Tamaño archivo original = %d'%(len(datos)))\n",
        "    ```\n",
        "\n",
        "    Con esto, tendra un arreglo `datos` donde se encuentran los valores experimentales de una variable que se pretende medir (nivel de gris).\n",
        "\n",
        "\n",
        "\n",
        "*  Realizar un montaje con Arduino en el cual pueda recopilar al menos 500 datos de ruido a partir del [sensor se sonido](https://sensorkit.arduino.cc/sensorkit/module/lessons/lesson/06-the-sound-sensor) y guardarlo en un archivo de texto. Para recopilar los datos puede usar como base el siguiente programa.\n",
        "\n",
        "    ```cpp\n",
        "    int sound_sensor = A2; //assign to pin A2\n",
        "    \n",
        "    void setup() \n",
        "    {\n",
        "    Serial.begin(9600); //begin Serial Communication\n",
        "    }\n",
        "    \n",
        "    void loop()\n",
        "    {\n",
        "    int soundValue = 0; //create variable to store many different readings\n",
        "    for (int i = 0; i < 32; i++) //create a for loop to read \n",
        "    { soundValue += analogRead(sound_sensor);  } //read the sound sensor\n",
        "    \n",
        "    soundValue >>= 5; //bitshift operation \n",
        "    Serial.println(soundValue); //print the value of sound sensor\n",
        "\n",
        "    delay(50); //a shorter delay between readings\n",
        "    }\n",
        "```\n",
        "    Con lo anterior, construya dos conjuntos de datos, uno de RUIDO BLANCO y uno de RUIDO ROSA (o AZUL) y carguelos a python.\n",
        "    \n",
        "    **NOTA** : Para generar el ruido puede usar la app para celular \"Noise Generator\".\n",
        "\n",
        "\n",
        "## Preguntas (Responder para cada conjunto de datos)\n",
        "### 1. Grafique el histograma de los datos con 30 intervalos (bins) y diga si su forma se corresponde a la forma de una distribución gaussiana. Determine la media aritmética y la desviación estándar (desviación típica).\n",
        "\n",
        "---\n",
        "**para los siguientes ejercicios**\n",
        "\n",
        "* considere el arreglo datos como todos los posibles valores de la variable experimental que quiere medir que puede obtener. Y para cada una de las preguntas siguientes tome los $n$ valores de la variable experimental usando la función `np.random.choice(datos,n)`. Para que los valores aleatorios no cambien entre corridas de su código, use la función `np.random.seed(0)` antes de `np.random.choice()`.\n",
        "\n",
        "**Nota**: además de reportar el valor experimental con su error estándar, imprima también sin formato los valores del valor central, el error estándar, y el error en el error. Por ejemplo para $n = 10$ datos:\n",
        "\n",
        "```\n",
        "n = 10\n",
        "media = 79.800000\n",
        "error = 14.451298\n",
        "error error = 3.406203\n",
        "```\n",
        "Valor a reportar = $80 \\pm 14$\n",
        "\n",
        "---\n",
        "\n",
        "### 2. Para corroborar el teorema del limite central, agrupe los datos de las distribuciones originales en muestras de 100, 500, y 2000 (si es posible) y calcule el promedio de cada grupo, a partir de estos promedios construya una nueva distribución (se grafica el histograma y se ajusta a una distribución normal).¿Qué pasa con la media para cada tamaño, cambia? ¿Qué pasa con la desviación estándar?¿La distribución se asemeja a una gaussiana?\n",
        "\n",
        "### 3. Tomando como valor \"exacto\" de la variable física particular como el promedio determinado en el primer punto. Tome 100, 500 y 2000 (si es posible) datos de forma aleatoria y calcule el valor promedio y el error estándar. Reporte la diferencia porcentual con el valor \"exacto\". ¿El valor exacto está contenido en el intervalo reportado? ¿los valores obtenidos se corresponden con los del punto anterior? \n",
        "\n",
        "*HINT* : Use la expresión de error en el error para determinar el número de cifras significativas del error estándar que va a reportar. \n",
        "\n",
        "\n",
        "### 4. Concluya: ¿Qué logra a medida que la muestra es más grande? ¿Qué pasa si las distribuciones no son originalmente gaussinasa? ¿Le sirve la desviación estándar para reportar una media con una incertidumbre cada vez menor?\n",
        "\n",
        "\n",
        "###5. (Usar los datos de `LenaCrip.png.PNG`) Suponiendo que la **apreciación** del instrumento de medida es $\\alpha_{ap}=\\pm 1$, determine cual es el número de datos máximo que vale la pena medir antes que el error inducido por la apreciación del instrumento comience a predominar. Reporte el valor promedio de nivel de gris encontrado con su incertidumbre.\n",
        "\n",
        "*HINT* : Determine cuándo el error total es igual al de apreciación. Tome como criterio en el momento en que el primer decimal se hace cero. No tiene que encontrar el número de datos exacto, se puede pasar un poco.\n",
        "\n",
        "###La expresión para el error total $\\alpha_{T}$ es:\n",
        "\n",
        "$$\\alpha_{T}^2 = \\alpha_{n}^2 + \\alpha_{ap}^2$$\n",
        "\n",
        "###donde $\\alpha_{n}$ corresponde al error estándar determinado con $n$ datos."
      ]
    },
    {
      "cell_type": "markdown",
      "metadata": {
        "id": "wq_a7ACpFhHE"
      },
      "source": [
        "# Solución:"
      ]
    },
    {
      "cell_type": "markdown",
      "metadata": {
        "id": "cQ3mX_P3FnlX"
      },
      "source": [
        "# 1. RUIDO BLANCO"
      ]
    },
    {
      "cell_type": "markdown",
      "source": [
        "##Punto 1:"
      ],
      "metadata": {
        "id": "MzMLi_WPRxtq"
      }
    },
    {
      "cell_type": "code",
      "execution_count": null,
      "metadata": {
        "id": "kzlEnPUQFh2K"
      },
      "outputs": [],
      "source": [
        "import pandas as pd\n",
        "import numpy as np\n",
        "dat1B=pd.read_csv('https://docs.google.com/spreadsheets/d/e/2PACX-1vQc7nrXDQR8fMGZ1cgM0pJUO4ewMAdMIdEW02CoRNB2KOtVmJgPuXamjNLm3uC6MjSF35Y7SgO6Pcjc/pub?gid=1367064891&single=true&output=csv')"
      ]
    },
    {
      "cell_type": "code",
      "execution_count": null,
      "metadata": {
        "id": "LBu1PbQthSFh"
      },
      "outputs": [],
      "source": [
        "Datblanco=dat1B.values.transpose().tolist()"
      ]
    },
    {
      "cell_type": "code",
      "execution_count": null,
      "metadata": {
        "colab": {
          "base_uri": "https://localhost:8080/",
          "height": 334
        },
        "id": "LolbSKD-EHeS",
        "outputId": "b98a858d-51d4-430b-f417-e2a841de6ccc"
      },
      "outputs": [
        {
          "output_type": "display_data",
          "data": {
            "text/plain": [
              "<Figure size 720x576 with 1 Axes>"
            ],
            "image/png": "[encoded data removed]"
          },
          "metadata": {
            "needs_background": "light"
          }
        }
      ],
      "source": [
        "#Graficando el histograma \n",
        "from scipy.stats import norm\n",
        "from matplotlib import pyplot as plt \n",
        "histogram=np.histogram(Datblanco,bins=30,)\n",
        "plt.figure(figsize=(10,8))\n",
        "plt.hist(x=Datblanco,bins=30,color='red',rwidth=0.90)\n",
        "plt.xlabel('''Figura 1\n",
        "\n",
        "Histograma de la intensidad del Ruido Blanco   ''',size=14)\n",
        "plt.ylabel('Frecuencia',size=14)\n",
        "plt.grid(True)\n",
        "plt.xlim(300,950)\n",
        "prom=np.mean(Datblanco)\n",
        "desvestB=np.std(Datblanco)\n",
        "plt.title(r'''\n",
        "  Intensidad del Sonido blanco medido experimentalmente\n",
        "  con %.f datos\n",
        "   \n",
        "  $ \\bar{x}=%.f, \\sigma=%.f$\n",
        "  '''%(len(Datblanco[0]), prom, desvestB), size = 17)\n",
        "plt.show()"
      ]
    },
    {
      "cell_type": "markdown",
      "metadata": {
        "id": "33B6qEZWp7QP"
      },
      "source": [
        "## Punto 2:\n"
      ]
    },
    {
      "cell_type": "code",
      "execution_count": null,
      "metadata": {
        "id": "cNC4f7ArA8Ko",
        "colab": {
          "base_uri": "https://localhost:8080/",
          "height": 405,
          "referenced_widgets": [
            "cb7364398a0848b286efa99a66adeaa7",
            "54efa70ed7494da79aebbbdf42b2713d",
            "f6f1cb01cb17469db9d2dfb8f036aab0",
            "77b451f894ee433ab9b864b978a0a6bf",
            "78a26e5000a941f6924942b9a74b0f71",
            "066fdfb774cf4de2b656e4eecf013a15",
            "d4548821ecef444c8cea66c401470892"
          ]
        },
        "outputId": "2c4f41d0-71f8-44b5-f375-8484bf94d0f5"
      },
      "outputs": [
        {
          "output_type": "display_data",
          "data": {
            "text/plain": [
              "interactive(children=(Dropdown(description='n', options=(100, 500, 2000), value=100), Output()), _dom_classes=…"
            ],
            "application/vnd.jupyter.widget-view+json": {
              "version_major": 2,
              "version_minor": 0,
              "model_id": "cb7364398a0848b286efa99a66adeaa7"
            }
          },
          "metadata": {}
        },
        {
          "output_type": "execute_result",
          "data": {
            "text/plain": [
              "<function __main__.func>"
            ]
          },
          "metadata": {},
          "execution_count": 5
        }
      ],
      "source": [
        "from ipywidgets import interact\n",
        "\n",
        "def func(n=100):\n",
        "  np.random.seed(1)\n",
        "  \n",
        "  dat = np.random.choice(Datblanco[0], n)\n",
        "\n",
        "  ndist= [np.mean(np.random.choice(Datblanco[0],n)) for i in range(0,len(Datblanco),n)]\n",
        "\n",
        "  plt.figure(figsize=(10,8))\n",
        "  _ ,bins, _ =plt.hist(dat,bins=30,facecolor='red',rwidth=0.90)\n",
        "  \n",
        "  mu=np.mean(ndist)\n",
        "  sumatoria = sum((dat - mu) ** 2)\n",
        "  desvEst = np.sqrt(sumatoria / n - 1)\n",
        "\n",
        "  plt.xlabel('Intensidad', size = 14)\n",
        "  plt.ylabel('Frecuencia ', size = 14)\n",
        "  plt.title(r'''\n",
        "  Intensidad del Sonido blanco medido experimentalmente\n",
        "  con %.f datos\n",
        "   \n",
        "  $ \\bar{x}=%.f, \\sigma=%.f$\n",
        "  '''%(n, mu, desvEst), size = 17)\n",
        "  plt.grid(True)\n",
        "  plt.show()\n",
        "\n",
        "  errEst = desvEst / np.sqrt(n)\n",
        "  print('Error estándar predicho  por la ecuación: %.4f'%(errEst))\n",
        "  errErr = 1 / np.sqrt(2 * n - 2)\n",
        "  print('El valor a reportar ahora es %.1f +/- %.1f'%(mu, errEst))\n",
        "\n",
        "interact(func,n=[100,500,2000])"
      ]
    },
    {
      "cell_type": "markdown",
      "source": [
        "##Punto 3:"
      ],
      "metadata": {
        "id": "3qxSeNrdRn-y"
      }
    },
    {
      "cell_type": "code",
      "source": [
        "\n",
        "def ErrRel(n):\n",
        "  np.random.seed(1)\n",
        "  dat = np.random.choice(Datblanco[0], n)\n",
        "  xExp = np.mean(dat)\n",
        "  errRela = abs(xExp - prom) * 100 / prom \n",
        "  return print(\"El error relativo porcentual de\", n, \"repeticiones es: \\n %.2f \\n\"%(errRela))\n",
        "\n",
        "interact(ErrRel, n=[100,500,2000])"
      ],
      "metadata": {
        "colab": {
          "base_uri": "https://localhost:8080/",
          "height": 118,
          "referenced_widgets": [
            "b717e3b288fb479b9728d4d1a7e62d13",
            "d9ea9abbff684ddc9742a8467ab5f679",
            "490e6e1c05c24eb387660fa430ceafd5",
            "0a2ecc3b15714016bed7dd4554a46186",
            "d164870e4fbb457e82f1a989ed494451",
            "6c6edea0185f459690352dc18e561924",
            "7fe495d95a0e4af1b1cf1060dda516dc"
          ]
        },
        "id": "-xRXHO-a516B",
        "outputId": "b9ab4fec-bb02-47d3-b6b0-8e3c6f3346bf"
      },
      "execution_count": null,
      "outputs": [
        {
          "output_type": "display_data",
          "data": {
            "text/plain": [
              "interactive(children=(Dropdown(description='n', options=(100, 500, 2000), value=100), Output()), _dom_classes=…"
            ],
            "application/vnd.jupyter.widget-view+json": {
              "version_major": 2,
              "version_minor": 0,
              "model_id": "b717e3b288fb479b9728d4d1a7e62d13"
            }
          },
          "metadata": {}
        },
        {
          "output_type": "execute_result",
          "data": {
            "text/plain": [
              "<function __main__.ErrRel>"
            ]
          },
          "metadata": {},
          "execution_count": 6
        }
      ]
    },
    {
      "cell_type": "markdown",
      "metadata": {
        "id": "W1321O6ju1JX"
      },
      "source": [
        "# 2. RUIDO ROSA"
      ]
    },
    {
      "cell_type": "markdown",
      "source": [
        "##Punto 1:"
      ],
      "metadata": {
        "id": "Pc1-x2K-RTqZ"
      }
    },
    {
      "cell_type": "code",
      "execution_count": null,
      "metadata": {
        "colab": {
          "base_uri": "https://localhost:8080/",
          "height": 424
        },
        "id": "iMMTLS8tvNe2",
        "outputId": "9860c811-a7fe-4978-a03c-787890a7ea73"
      },
      "outputs": [
        {
          "output_type": "execute_result",
          "data": {
            "text/plain": [
              "      303\n",
              "0     383\n",
              "1     761\n",
              "2     571\n",
              "3     666\n",
              "4     711\n",
              "...   ...\n",
              "2458  693\n",
              "2459  270\n",
              "2460  538\n",
              "2461  316\n",
              "2462  419\n",
              "\n",
              "[2463 rows x 1 columns]"
            ],
            "text/html": [
              "\n",
              "  <div id=\"df-8b7bbe42-da1d-4400-ab8c-0e01f077d7f2\">\n",
              "    <div class=\"colab-df-container\">\n",
              "      <div>\n",
              "<style scoped>\n",
              "    .dataframe tbody tr th:only-of-type {\n",
              "        vertical-align: middle;\n",
              "    }\n",
              "\n",
              "    .dataframe tbody tr th {\n",
              "        vertical-align: top;\n",
              "    }\n",
              "\n",
              "    .dataframe thead th {\n",
              "        text-align: right;\n",
              "    }\n",
              "</style>\n",
              "<table border=\"1\" class=\"dataframe\">\n",
              "  <thead>\n",
              "    <tr style=\"text-align: right;\">\n",
              "      <th></th>\n",
              "      <th>303</th>\n",
              "    </tr>\n",
              "  </thead>\n",
              "  <tbody>\n",
              "    <tr>\n",
              "      <th>0</th>\n",
              "      <td>383</td>\n",
              "    </tr>\n",
              "    <tr>\n",
              "      <th>1</th>\n",
              "      <td>761</td>\n",
              "    </tr>\n",
              "    <tr>\n",
              "      <th>2</th>\n",
              "      <td>571</td>\n",
              "    </tr>\n",
              "    <tr>\n",
              "      <th>3</th>\n",
              "      <td>666</td>\n",
              "    </tr>\n",
              "    <tr>\n",
              "      <th>4</th>\n",
              "      <td>711</td>\n",
              "    </tr>\n",
              "    <tr>\n",
              "      <th>...</th>\n",
              "      <td>...</td>\n",
              "    </tr>\n",
              "    <tr>\n",
              "      <th>2458</th>\n",
              "      <td>693</td>\n",
              "    </tr>\n",
              "    <tr>\n",
              "      <th>2459</th>\n",
              "      <td>270</td>\n",
              "    </tr>\n",
              "    <tr>\n",
              "      <th>2460</th>\n",
              "      <td>538</td>\n",
              "    </tr>\n",
              "    <tr>\n",
              "      <th>2461</th>\n",
              "      <td>316</td>\n",
              "    </tr>\n",
              "    <tr>\n",
              "      <th>2462</th>\n",
              "      <td>419</td>\n",
              "    </tr>\n",
              "  </tbody>\n",
              "</table>\n",
              "<p>2463 rows × 1 columns</p>\n",
              "</div>\n",
              "      <button class=\"colab-df-convert\" onclick=\"convertToInteractive('df-8b7bbe42-da1d-4400-ab8c-0e01f077d7f2')\"\n",
              "              title=\"Convert this dataframe to an interactive table.\"\n",
              "              style=\"display:none;\">\n",
              "        \n",
              "  <svg xmlns=\"http://www.w3.org/2000/svg\" height=\"24px\"viewBox=\"0 0 24 24\"\n",
              "       width=\"24px\">\n",
              "    <path d=\"M0 0h24v24H0V0z\" fill=\"none\"/>\n",
              "    <path d=\"M18.56 5.44l.94 2.06.94-2.06 2.06-.94-2.06-.94-.94-2.06-.94 2.06-2.06.94zm-11 1L8.5 8.5l.94-2.06 2.06-.94-2.06-.94L8.5 2.5l-.94 2.06-2.06.94zm10 10l.94 2.06.94-2.06 2.06-.94-2.06-.94-.94-2.06-.94 2.06-2.06.94z\"/><path d=\"M17.41 7.96l-1.37-1.37c-.4-.4-.92-.59-1.43-.59-.52 0-1.04.2-1.43.59L10.3 9.45l-7.72 7.72c-.78.78-.78 2.05 0 2.83L4 21.41c.39.39.9.59 1.41.59.51 0 1.02-.2 1.41-.59l7.78-7.78 2.81-2.81c.8-.78.8-2.07 0-2.86zM5.41 20L4 18.59l7.72-7.72 1.47 1.35L5.41 20z\"/>\n",
              "  </svg>\n",
              "      </button>\n",
              "      \n",
              "  <style>\n",
              "    .colab-df-container {\n",
              "      display:flex;\n",
              "      flex-wrap:wrap;\n",
              "      gap: 12px;\n",
              "    }\n",
              "\n",
              "    .colab-df-convert {\n",
              "      background-color: #E8F0FE;\n",
              "      border: none;\n",
              "      border-radius: 50%;\n",
              "      cursor: pointer;\n",
              "      display: none;\n",
              "      fill: #1967D2;\n",
              "      height: 32px;\n",
              "      padding: 0 0 0 0;\n",
              "      width: 32px;\n",
              "    }\n",
              "\n",
              "    .colab-df-convert:hover {\n",
              "      background-color: #E2EBFA;\n",
              "      box-shadow: 0px 1px 2px rgba(60, 64, 67, 0.3), 0px 1px 3px 1px rgba(60, 64, 67, 0.15);\n",
              "      fill: #174EA6;\n",
              "    }\n",
              "\n",
              "    [theme=dark] .colab-df-convert {\n",
              "      background-color: #3B4455;\n",
              "      fill: #D2E3FC;\n",
              "    }\n",
              "\n",
              "    [theme=dark] .colab-df-convert:hover {\n",
              "      background-color: #434B5C;\n",
              "      box-shadow: 0px 1px 3px 1px rgba(0, 0, 0, 0.15);\n",
              "      filter: drop-shadow(0px 1px 2px rgba(0, 0, 0, 0.3));\n",
              "      fill: #FFFFFF;\n",
              "    }\n",
              "  </style>\n",
              "\n",
              "      <script>\n",
              "        const buttonEl =\n",
              "          document.querySelector('#df-8b7bbe42-da1d-4400-ab8c-0e01f077d7f2 button.colab-df-convert');\n",
              "        buttonEl.style.display =\n",
              "          google.colab.kernel.accessAllowed ? 'block' : 'none';\n",
              "\n",
              "        async function convertToInteractive(key) {\n",
              "          const element = document.querySelector('#df-8b7bbe42-da1d-4400-ab8c-0e01f077d7f2');\n",
              "          const dataTable =\n",
              "            await google.colab.kernel.invokeFunction('convertToInteractive',\n",
              "                                                     [key], {});\n",
              "          if (!dataTable) return;\n",
              "\n",
              "          const docLinkHtml = 'Like what you see? Visit the ' +\n",
              "            '<a target=\"_blank\" href=https://colab.research.google.com/notebooks/data_table.ipynb>data table notebook</a>'\n",
              "            + ' to learn more about interactive tables.';\n",
              "          element.innerHTML = '';\n",
              "          dataTable['output_type'] = 'display_data';\n",
              "          await google.colab.output.renderOutput(dataTable, element);\n",
              "          const docLink = document.createElement('div');\n",
              "          docLink.innerHTML = docLinkHtml;\n",
              "          element.appendChild(docLink);\n",
              "        }\n",
              "      </script>\n",
              "    </div>\n",
              "  </div>\n",
              "  "
            ]
          },
          "metadata": {},
          "execution_count": 7
        }
      ],
      "source": [
        "import pandas as pd\n",
        "dat1R=pd.read_csv('https://docs.google.com/spreadsheets/d/e/2PACX-1vQc7nrXDQR8fMGZ1cgM0pJUO4ewMAdMIdEW02CoRNB2KOtVmJgPuXamjNLm3uC6MjSF35Y7SgO6Pcjc/pub?gid=1208957300&single=true&output=csv');dat1R\n"
      ]
    },
    {
      "cell_type": "code",
      "execution_count": null,
      "metadata": {
        "id": "xMN4j3Vqx7QF"
      },
      "outputs": [],
      "source": [
        "DatRosa=dat1R.transpose().values.tolist()"
      ]
    },
    {
      "cell_type": "code",
      "execution_count": null,
      "metadata": {
        "id": "ysoMjiqOzi2E",
        "colab": {
          "base_uri": "https://localhost:8080/",
          "height": 312
        },
        "outputId": "7f3567d1-ed85-43be-c809-4e13156c67ca"
      },
      "outputs": [
        {
          "output_type": "display_data",
          "data": {
            "text/plain": [
              "<Figure size 720x576 with 1 Axes>"
            ],
            "image/png": "[encoded data removed]"
          },
          "metadata": {
            "needs_background": "light"
          }
        }
      ],
      "source": [
        "#Graficando el histograma \n",
        "from scipy.stats import norm\n",
        "from matplotlib import pyplot as plt \n",
        "histogram=np.histogram(DatRosa,bins=30,)\n",
        "plt.figure(figsize=(10,8))\n",
        "plt.hist(x=DatRosa,bins=30,color='purple',rwidth=0.90)\n",
        "plt.xlabel('Intensidad',size=14)\n",
        "plt.ylabel('Frecuencia',size=14)\n",
        "plt.grid(True)\n",
        "plt.xlim(100,1000)\n",
        "promR=np.mean(DatRosa)\n",
        "desvestR=np.std(DatRosa)\n",
        "plt.title(r'''\n",
        "  Intensidad del Sonido rosa medido experimentalmente\n",
        "  con %.f datos\n",
        "   \n",
        "  $ \\bar{x}=%.f, \\sigma=%.f$\n",
        "  '''%(len(DatRosa[0]), promR, desvestR), size = 17)\n",
        "plt.show()"
      ]
    },
    {
      "cell_type": "markdown",
      "metadata": {
        "id": "PuE5Nz5e04dS"
      },
      "source": [
        "## Punto 2:"
      ]
    },
    {
      "cell_type": "code",
      "execution_count": null,
      "metadata": {
        "colab": {
          "base_uri": "https://localhost:8080/",
          "height": 405,
          "referenced_widgets": [
            "ba3daadd129d4945b14e1472fb653126",
            "e3bf502177a940d2810cc94b8b351665",
            "d26347603cd24d31a258173d08bdf341",
            "4da605994ed845c5b0238be34e6a9121",
            "5ed584980b5e4edea3b8eaa069061897",
            "e0d933f054224c408236cae636a2a990",
            "cf8ed463176f4e2f8d2e0cb327822d8a"
          ]
        },
        "id": "p5wXNI6Z05mM",
        "outputId": "3c0701ec-852e-45e3-a1ac-f6c3ad4191ab"
      },
      "outputs": [
        {
          "output_type": "display_data",
          "data": {
            "text/plain": [
              "interactive(children=(Dropdown(description='n', options=(100, 500, 2000), value=100), Output()), _dom_classes=…"
            ],
            "application/vnd.jupyter.widget-view+json": {
              "version_major": 2,
              "version_minor": 0,
              "model_id": "ba3daadd129d4945b14e1472fb653126"
            }
          },
          "metadata": {}
        },
        {
          "output_type": "execute_result",
          "data": {
            "text/plain": [
              "<function __main__.func>"
            ]
          },
          "metadata": {},
          "execution_count": 10
        }
      ],
      "source": [
        "from ipywidgets import interact\n",
        "\n",
        "def func(n=100):\n",
        "  np.random.seed(1)\n",
        "  \n",
        "  dat = np.random.choice(DatRosa[0], n)\n",
        "\n",
        "  ndist= [np.mean(np.random.choice(DatRosa[0],n)) for i in range(0,len(DatRosa),n)]\n",
        "\n",
        "  plt.figure(figsize=(10,8))\n",
        "  _ ,bins, _ =plt.hist(dat,bins=30,facecolor='purple',rwidth=0.90)\n",
        "  \n",
        "  mu=np.mean(ndist)\n",
        "  sumatoria = sum((dat - mu) ** 2)\n",
        "  desvEst = np.sqrt(sumatoria / n - 1)\n",
        "\n",
        "  plt.xlabel('Intensidad', size = 14)\n",
        "  plt.ylabel('Frecuencia ', size = 14)\n",
        "  plt.title(r'''\n",
        "  Intensidad del Sonido Rosa medido experimentalmente\n",
        "  con %.f datos\n",
        "   \n",
        "  $ \\bar{x}=%.f, \\sigma=%.f$\n",
        "  '''%(n, mu, desvEst), size = 17)\n",
        "  plt.grid(True)\n",
        "  plt.show()\n",
        "\n",
        "  errEst = desvEst / np.sqrt(n)\n",
        "  print('Error estándar predicho  por la ecuación: %.4f'%(errEst))\n",
        "  errErr = 1 / np.sqrt(2 * n - 2)\n",
        "  print('El valor a reportar ahora es %.1f +/- %.1f'%(mu, errEst))\n",
        "\n",
        "interact(func,n=[100,500,2000])"
      ]
    },
    {
      "cell_type": "markdown",
      "source": [
        "##Punto 3:"
      ],
      "metadata": {
        "id": "-FS-DfQOQpD8"
      }
    },
    {
      "cell_type": "code",
      "source": [
        "def ErrRelR(m):\n",
        "  np.random.seed(1)\n",
        "  datR = np.random.choice(DatRosa[0], m)\n",
        "  xExpR = np.mean(datR)\n",
        "  errRelaR = abs(xExpR - promR) * 100 / promR\n",
        "  return print(\"El error relativo porcentual de\", m, \"repeticiones es: \\n %.4f \\n\"%(errRelaR))\n",
        "\n",
        "interact(ErrRelR, m=[100,500,2000])"
      ],
      "metadata": {
        "id": "84WQFx8y49W4",
        "colab": {
          "base_uri": "https://localhost:8080/",
          "height": 118,
          "referenced_widgets": [
            "43e12252afee4488adb88e821d95d2ac",
            "337f4c1f39be4f1aba001a2f94bb25e5",
            "e46db83f53ce47cdbe59e85c1b21ec28",
            "dcad4e3566784378a24dece425f672b7",
            "9f47ee654adf4b0c8ef2673c18b289b0",
            "112a89df83c247b5a4508e90cc1b5842",
            "a18db405780a48fb9a50f8bed186f818"
          ]
        },
        "outputId": "19bd52b9-0ac5-4dd0-b636-51f8525e84df"
      },
      "execution_count": null,
      "outputs": [
        {
          "output_type": "display_data",
          "data": {
            "text/plain": [
              "interactive(children=(Dropdown(description='m', options=(100, 500, 2000), value=100), Output()), _dom_classes=…"
            ],
            "application/vnd.jupyter.widget-view+json": {
              "version_major": 2,
              "version_minor": 0,
              "model_id": "43e12252afee4488adb88e821d95d2ac"
            }
          },
          "metadata": {}
        },
        {
          "output_type": "execute_result",
          "data": {
            "text/plain": [
              "<function __main__.ErrRelR>"
            ]
          },
          "metadata": {},
          "execution_count": 11
        }
      ]
    },
    {
      "cell_type": "markdown",
      "source": [
        "#Análisis puntos 1-4:"
      ],
      "metadata": {
        "id": "ElpUY0ViaN0-"
      }
    },
    {
      "cell_type": "markdown",
      "source": [
        "1. En cuanto a su forma no es perfectamente una distribución Gaussiana  debido a diversos factores experimentales pero se puede ver claramente que los valores tienden a una distribución normal."
      ],
      "metadata": {
        "id": "PjCrVqpPwby_"
      }
    },
    {
      "cell_type": "markdown",
      "source": [
        "2. Los promedios de las diferentes muestras tomadas oscilan en un intervalo cercano al promedio \"exacto\". En la desviación estándar, esta va disminuyendo a medida que aumenta el número de datos, acercandose a la desviación estándar tomada con el número total de datos. En todos los histogramas graficados, se puede ver una figura que se asemeja a una distribución gaussiana."
      ],
      "metadata": {
        "id": "sfDXyzZLaV3C"
      }
    },
    {
      "cell_type": "markdown",
      "source": [
        "3. En cinco de los seis casos el promedio exacto se encuentra dentro del intervalo que da el error relativo. En el caso que no se da, el valor sigue siendo muy cercano al promedio. Los valores del error relativo son relativamente cercanos a los de los errores estándar encontrados, pero no son iguales a estos."
      ],
      "metadata": {
        "id": "Ypv4W-R2cjZi"
      }
    },
    {
      "cell_type": "markdown",
      "source": [
        "4. A medida que la muestra es más grande, el error estándar va disminuyendo, el histograma se acerca más a una distribución gaussiana, el error relativo dismunuye y el promedio se acerca al valor teórico. Si la distribución no es originalmente gaussiana, esta se puede ajustar para que sea descrita por una gaussiana, pero la función no va a representar tan cercanamente a los datos. Si se reporta el promedio con la desviación estándar, se está reportando más error del necesario, ya que el error estándar dismunuye a medida de que se toman más medidas."
      ],
      "metadata": {
        "id": "ICbu_zd0jZVc"
      }
    },
    {
      "cell_type": "markdown",
      "source": [
        "#Punto 5:"
      ],
      "metadata": {
        "id": "yVneS4Q1Mc4c"
      }
    },
    {
      "cell_type": "code",
      "source": [
        "from google.colab import drive\n",
        "drive.mount('/content/drive')"
      ],
      "metadata": {
        "colab": {
          "base_uri": "https://localhost:8080/"
        },
        "id": "HR8pb6hwQcEB",
        "outputId": "7ce3ecb4-7662-4174-cc09-97b75542faea"
      },
      "execution_count": null,
      "outputs": [
        {
          "output_type": "stream",
          "name": "stdout",
          "text": [
            "Mounted at /content/drive\n"
          ]
        }
      ]
    },
    {
      "cell_type": "code",
      "source": [
        "  import numpy as np\n",
        "  import pylab as plt\n",
        "  from imageio import imread\n",
        "\n",
        "  Ima = imread('/content/drive/MyDrive/LenaCrip.png.PNG')[:,:,0]\n",
        "  forma = np.shape(Ima)\n",
        "  datos = np.reshape(Ima,(np.size(Ima),1)).astype('int')[:,0]\n",
        "  print('Tamaño archivo original = %d'%(len(datos)))"
      ],
      "metadata": {
        "id": "z4r9UURTQF5q",
        "colab": {
          "base_uri": "https://localhost:8080/"
        },
        "outputId": "192a5124-ff40-4315-ee67-84d765d910e3"
      },
      "execution_count": null,
      "outputs": [
        {
          "output_type": "stream",
          "name": "stdout",
          "text": [
            "Tamaño archivo original = 512864\n"
          ]
        }
      ]
    },
    {
      "cell_type": "code",
      "source": [
        "avg = sum(datos) / len(datos)\n",
        "apreciacion = 1.0\n",
        "n = 2\n",
        "A = sum((datos - avg) ** 2)\n",
        "desvEst = np.sqrt(A / (n - 1))\n",
        "errorEst = desvEst / np.sqrt(n)\n",
        "errorTotal = np.sqrt(errorEst * errorEst + apreciacion * apreciacion)\n",
        "print(desvEst)\n",
        "\n",
        "while apreciacion + 0.01 < errorTotal:\n",
        "  desvEst = np.sqrt(A / (n - 1))\n",
        "  errorEst = desvEst / np.sqrt(n)\n",
        "  errorTotal = np.sqrt(errorEst * errorEst + apreciacion * apreciacion)\n",
        "  n += 1\n",
        "\n",
        "print(\"\\nEl número de datos que se puede realizar antes de que la apreciación predomine el error total es\", n, \"repeticiones.\")"
      ],
      "metadata": {
        "id": "WyPa4iHsQc5j",
        "colab": {
          "base_uri": "https://localhost:8080/"
        },
        "outputId": "befce917-5dc1-4c74-b697-98f1013eda0b"
      },
      "execution_count": null,
      "outputs": [
        {
          "output_type": "stream",
          "name": "stdout",
          "text": [
            "18486.807016742547\n",
            "\n",
            "El número de datos que se puede realizar antes de que la apreciación predomine el error total es 130398 repeticiones.\n"
          ]
        }
      ]
    }
  ],
  "metadata": {
    "colab": {
      "collapsed_sections": [
        "cQ3mX_P3FnlX",
        "MzMLi_WPRxtq",
        "33B6qEZWp7QP",
        "3qxSeNrdRn-y",
        "W1321O6ju1JX",
        "ElpUY0ViaN0-",
        "yVneS4Q1Mc4c"
      ],
      "name": "Histogramas_Sonido_Blanco_y_Rosa",
      "provenance": [],
      "include_colab_link": true
    },
    "kernelspec": {
      "display_name": "Python 3",
      "name": "python3"
    },
    "language_info": {
      "name": "python"
    },
    "widgets": {
      "application/vnd.jupyter.widget-state+json": {
        "cb7364398a0848b286efa99a66adeaa7": {
          "model_module": "@jupyter-widgets/controls",
          "model_name": "VBoxModel",
          "model_module_version": "1.5.0",
          "state": {
            "_dom_classes": [
              "widget-interact"
            ],
            "_model_module": "@jupyter-widgets/controls",
            "_model_module_version": "1.5.0",
            "_model_name": "VBoxModel",
            "_view_count": null,
            "_view_module": "@jupyter-widgets/controls",
            "_view_module_version": "1.5.0",
            "_view_name": "VBoxView",
            "box_style": "",
            "children": [
              "IPY_MODEL_54efa70ed7494da79aebbbdf42b2713d",
              "IPY_MODEL_f6f1cb01cb17469db9d2dfb8f036aab0"
            ],
            "layout": "IPY_MODEL_77b451f894ee433ab9b864b978a0a6bf"
          }
        },
        "54efa70ed7494da79aebbbdf42b2713d": {
          "model_module": "@jupyter-widgets/controls",
          "model_name": "DropdownModel",
          "model_module_version": "1.5.0",
          "state": {
            "_dom_classes": [],
            "_model_module": "@jupyter-widgets/controls",
            "_model_module_version": "1.5.0",
            "_model_name": "DropdownModel",
            "_options_labels": [
              "100",
              "500",
              "2000"
            ],
            "_view_count": null,
            "_view_module": "@jupyter-widgets/controls",
            "_view_module_version": "1.5.0",
            "_view_name": "DropdownView",
            "description": "n",
            "description_tooltip": null,
            "disabled": false,
            "index": 0,
            "layout": "IPY_MODEL_78a26e5000a941f6924942b9a74b0f71",
            "style": "IPY_MODEL_066fdfb774cf4de2b656e4eecf013a15"
          }
        },
        "f6f1cb01cb17469db9d2dfb8f036aab0": {
          "model_module": "@jupyter-widgets/output",
          "model_name": "OutputModel",
          "model_module_version": "1.0.0",
          "state": {
            "_dom_classes": [],
            "_model_module": "@jupyter-widgets/output",
            "_model_module_version": "1.0.0",
            "_model_name": "OutputModel",
            "_view_count": null,
            "_view_module": "@jupyter-widgets/output",
            "_view_module_version": "1.0.0",
            "_view_name": "OutputView",
            "layout": "IPY_MODEL_d4548821ecef444c8cea66c401470892",
            "msg_id": "",
            "outputs": [
              {
                "output_type": "display_data",
                "data": {
                  "text/plain": "<Figure size 720x576 with 1 Axes>",
                  "image/png": "iVBORw0KGgoAAAANSUhEUgAAAmIAAAJiCAYAAABkVq7mAAAABHNCSVQICAgIfAhkiAAAAAlwSFlzAAALEgAACxIB0t1+/AAAADh0RVh0U29mdHdhcmUAbWF0cGxvdGxpYiB2ZXJzaW9uMy4yLjIsIGh0dHA6Ly9tYXRwbG90bGliLm9yZy+WH4yJAAAgAElEQVR4nOzdeZhkVX3/8fdHRkAYFRAdUZRBRVxwnTEat8xINC7EqAlRExcIShSjGCUqifmJJiYxEreYKK4QRYmoiIobiiNxl8EdxIVFUVbZHFaB8/vjnJaipnqmeqa6T9P9fj1PPdV169x7v3fpW5+6W6WUgiRJkubezXoXIEmStFgZxCRJkjoxiEmSJHViEJMkSerEICZJktSJQUySJKkTg5gkSVInBjFJkqRODGKSJEmdGMQkSZI6MYhJkiR1YhCTJEnqxCAmSZLUiUFMkiSpE4OYJElSJwYxSZKkTgxikiRJnRjEJEmSOjGISZIkdWIQkyRJ6sQgJkmS1IlBTJIkqRODmCRJUicGMUmSpE4MYpIkSZ0YxCRJkjoxiEmSJHViENOMJFmVpCRZNUbbQ5KUCY9/s4a5Of3PxvTMhpnUmWRNkjUTHPfhSa7tMe7FLMny9n+5z0C3buvBTd1MtnMLQZIzkxzeu47FyiA2y2bywTRN/4ckeeIka9LsS3KPJEcmOT3JVUnOTfK1JP+WZGnv+iQtDElenORZveuYCy0gH5LkVr1rmSSD2Pz3KmA+BbETgVu0Z42Q5MHAt4GHA+8H/gZ4K/CL9veOs1zCP1OXkRY314NNd1Pazr0YWBRBDFhF/UxcUEFsSe8CdNNSSrkeuKp3HfPcP1Ln0YNKKecPvpHk1sDVsznyUsq1wCbvhdXC4Howc0luAVztdk5zyT1iHbTj8Z9P8qAkX0lyZZJfJHnJQJvlA+d37NfOVyiDx/GTLEtyWJJfJbkmyU+THJzkZsPDSfLKJM9K8qMkVyf5fpJHD9W1Rev/R0muSHJJkm8nef5Am5HnTiR5QpLvtsNwP06y3zTTvk+S45Oc02o+Pcm/JtlqRNuxhrmB+Tx2/0n2TvL1Nt2XJTkuyX1mMr4BdwN+NBzCAEopl5ZSbrSBT/KwJF9Isq49vpDk94fa7NPm++o2v85t683xSXYdarveuUGpXpbkrNbf15I8dJp5sUOS/27r1dVtfThocL3amCQ7Jzk2yW+S/DrJ28Y5JJvkpUn+L8kFQ+POULs1bX2/W5LPJrk8yfmph37XqzPJnyb5cqvnsiQnDa8PSf54YB24pNV/zzFqHvwf2zfJaW0efzXJfVubZyY5ta2LJyd50Ijh3DXJBwam/QdJnjui3U5Jjm7TclGSdzNiD0Hv9WBj05Nkq9btrAwcakqyJMm3UrcROw5OS5I9khyR5OK2HD+Y5HYjxv3AJB9v7a5sy/tJQ22m/qf+MMkbkvwKuBy4VUZs59JOM0ly+zb/L2vr3D+1+bosyf+2defiJP8xPK9au+fnhu3Sr5MclWSXoXZjrd9t+e4C7JkbPiPWDCy/17dxXdaG8dUke42x7Kam/5kD68sVST6X5M6tzUuSnNGm40tJ7rqZy2F1NrBtS/3se1V7+YuB6V0+0GaS2/G5U0rxMYsP4HDg2qFuZwI/Bs4FXg88H1gDFOCPWpttgWe0bl9sfz8D+P32/o7AGcA5wKuBvwb+p7V/+8C4lrdua4GzgIOpu7LPBNYBOwy0fXVr+27gucCLgLcDRw60WdXarBro9ijqN+8fA39H3SN0HvCduordaNq/RT1cdxDwvFbzdYPjmOkwp5nvM6npoDZNHwVeALy8zZ/LgLsPtDtkzHF/BrgCWDlG20dS95Cd0ZbNwW3cVwEPG2i3T6vxJODLbdm8po3nq0PDXK9O6gasAJ+nHh59M3AR8DNgzUC7rdo8uhb4rzY/Ptn6feuY6/t1wPeBjwAHAO9p/X9qqO2awXG3br8E3gEc2Mb9sdbva0f0e16bV29r69Ixre1fD7V9Ret+cpu/BwCHAR8baPN04Hrgu8BL2jz8NXAxcLeNTPPygeH/tK1vBwOXtunZr3V/2UD3s4AlA8O4exvfT4C/p24TPt6G+4qBdlsDpwDXAG8EXkjdPnyntd1nnqwH407P/anr/xED3V7T2j1heFpaTV8YqP23rduWA20fAVxJ3eYd1Nqe2Pp/+oj/qR8AX6OucwcD2zB6O3c4dd3+DnWdfj7wqdbu74Dvjei+/9B8eWubp0dQ19n/B1wAnA3sONP1m/qZcEGbhqnPiEe391a2/l/f+j+IesrE9cBjhuo6Ezh8xHb+5PY4EHgtdb1bC/xDe37xQPfh7dBMl8MGt23A71O30YW63k9N77Yz2Y7Px0f3Ahb6g+mDWAEeO9Btq/aPd/RQ2wK8a8RwDwMuBHYa6v4v7R/t7u318jaMS4FlA+3u37q/YKDbt4HjNjI9U/+gqwa6raVudG8z0O2e1A1OGep/mxHDfGWreedNGeY0dY7VP3An6sZ8+IN+GfUDajCEHjLmuFe18VzfNi5vBJ40tcEYansS9cN+cNns1JbXNwe67dPm+1eALQa6v7h1v/d0dVJD+9XACUP97t/6XTPQ7W9Yf2Mf4EPD49nA+l4Y+GBt3V/LwBeN1m0N6wexUevHu6hfGrYa6rcAzxtq+x3gWwOvd23L4nPAzYfapj3fnPqF5ifA0oH370v94P3QRqZ5eavlEm78Yfr81n14PZzqPvj//1ngtOF1BPgAdS/NrdvrF7Z+9x1oswU3fMDtM0/Wg7Gmp3WbCspPAR7cltdhQ/0d0toM1/7cwTpbjae2+bHFUO1fpp6nObXc9+GGL6nD68YqRgexAvzzQLcl1BB1PfCaEd2/PtDt91v/zx0a172pQea1A93WMMb63bqdCXx+xDLYanAeDHQ7BTh+xDAOHzH9PwW2Huj+utb9NG78/zjV/R6bsRzG3rYx8FnRuo+9HZ+PDw9N9nNGKeUzUy9KKVcDXwfusrEekwTYm/qt67dJdpx6UDeAAVYP9faRUsp5A+P7DvWbwuD4LgHunTEOxwzUshPwQOD9pZRfDwz/1FbLjZRSrmj93SzJdq3mE1vND9yUYW5mTX9K3Wh+cGg+Xkf9lvyojc+F9aZxDfAw6jfY3akblGOAC5IcNFDn7YEVwPuGls051L2GDxpx2OWwUsp1A6+/1J43tN48GtgS+M+hft9LDXyD9qIGw/cM1FOo36oBnrCB8Qx60zSvN3hYZGD9WJJk+7Ys1lD3EO8+1Py31JA26EvceF48hRpUDiml/HZoXKX9uQK4PfC2Usq6gfe/R927+bjhQ0zT+Egp5cKB119rzx8bXA8Hut8FIMn21GV0NHCLofXw09Q9NA9p/exFDXbvG6jzOuA/x6hvTtaDGU4PwL9TP5zfQV3vzwReOs3gh2s/vNU+tV7dD7gHcCSw/cB4b0PdXu5M3Vs36J3D68ZGHDb1R6nn4Z1E3X69c0T3wXXxqdQ9RJ8YmifnUYPN8LZmnPV7WqWUq6fmVeph4NsAt2zDWDHOMKhfqAZPpZhad9/fPrOGu0/VtinLYVO2bVMmvh2fS56s389ZI7pdTP0WvjG3BbYHntkeowx/gE83vh0GXr8SOBY4JcmPqYcvjm7BYjq7tOfTRrx3GvD4wQ5JHkLda/dQ6rezQdttyjA3s6apjcH3pxnW9RsZ10illG8Af5pkC+oG6THUwxevT3JhKeVw6p4UgB+NGMQp7XlXYPBcs+HleHF73oHpjZwfpZTfJjl9qO1y4KcjPpgG6xnH8LguSHLxxvpP8njq4ZoVrL992m7o9S/bB96g4XX6bu15uuULG18Oj6f+z5034v1BPx96fclGum/fnnejfpD/Q3uMMvX/vAtw+ojpHrWuD5ur9WAm00Mp5frU2y/8mPpB/fDBQDxkutqn6pn6f357e0w37sHh/GyadqNcT93TNeiSDXTffuD13alXYp4zzbCHl8E46/e02hf2l1BPW9lt6O2yfh8jbeo6vSnLYVO2bVNmZTs+Vwxi/Vw3TfdM033Q1Lfz/2X9b0xThv+pNzq+UspX2gmXTwD+kHo47YAkh5VSnjdGXRvUTrw8gbrheyn1H+8q4I7Ub7Y99tBOjXMvZuFqxvYN74fAD5N8nHr461nU6d0Um7PezGupJ41/gvoN9gDq+VXXUPduvo7114/p5kUv09WzsWU2NV1voU7/KD/c1KI62JTpeTQ3fB7dh3qYanPG/ffU81FH+cHQ6ytnMPwysCd1nO6D/5c3owaWvacZ9nAdm7t+vwz4N+re01dTT2W5DtgX+Isxh7G56/RMlsMkPhNnZTs+2wxiN00XUA8rbllK+fwkB1xKuZR6HscHkiyhBoa/TvKvpZRRe9Wmug0fNhrV7YnUb4R7DQ4ryWM2Y5ijzKT/n7bnX7RDUbOmlPKzJBcBd2idzmzP9xjRfOrw8BkTGPXg/Jjao0GSm1P3JHx3oO2Z1EOiS4a+jc+0nt2p5xxOjWtqL+6G+t+bGrz+cPBwSJKxDsVMY2r53gf46jRtzmzP96AeNhl0T+r5aRdsRg0bM7VH5rox/p/PAlaMWD4z/b+YzfVgJtND+/L3BuA46ofuoUmOL6WM2lM1Xe1fbp2mlvflk942TsBPqXvGv9W2s5My3d6tp1HP+7vRPcaS/NUExz2d2VoO003rnG3HZ4PniM1/lzN0SKbtZTkaeGJGXwZ/y4y4HcTGtHMIBsdzLTd8axk+LDTV5hzqB+4zBvtv55n90VDzqd3Dg5df34yh80FmOMzNrekj1JODXz3qPKAWIGYkyZ7TDOvB1EMvP2p1nks9j+SZg+eCtXPHnkk9WX+9W2BsguOpAeeFQ3Xty/rL9RPUQwH7DnWfOrftk2OO88XTvD5uA/1cT93QbjHVIcnW1BPUN9VHqd+0X90+tH+nHbqBugzOBZ6XZNuB9/cAHku92nPWDm2UUi6gXgm4X4ZuY9DqGFwHj6OuQ88ceH8LxptHc7IezGR6Wu3vo+4Zfw71CtOrgCOmOS/vha2fKfu02qfWq5Ope51fmmS9bdam/D9P0FHUoPmaUW+2c5o2xXqfEc31DH3GJ9kNePImjmcmZms5XN6eh4c58e34XHKP2Py3FnhMkr+lnltwRjv/6GDqlS3/l+Q91Eunl1KvwPkz6h6AM2c4rlOTfJm6K/k86rfPv6GGsQ2dY/Ny6knNX0vyDuper6n+7jfQ7jPU3cbHJTmMupH4c9Y/V2wmw9ysmkopZyR5GfUb+TeTfJS6C//O1A/hH1A39jPxZuq9iD5GPQRTgD2AZ1MPP/zzQNuXUs/F+3qrE+o5HVtTz+/YbKWUC5O8jnoLj8+1uu5GPUQ6fAj7XdQr0d6Weg+sU4HHUXf5/1cp5RQ27nrggUk+Qv1AXkn9QP/c4AUqI3wc+Fvg80neRz2x+Nlsxo012/J9FXWefyPJh6gnd+9B3TP55FLKtan38DsS+EqSI6j35Xoh8BumP89pkg6gHo77bpJ3Uc+X2oF6dfOTqOsD1BPCDwAOS70/0unUE5U3eqfxOV4Pxp2el1OvJty7fTEh9b6FH+KGQ2uDdmi1H9NqfwF12/SeNo3XJ9mXepXsKW3beBb16rkHA/cC1rvf1VwopXw5yVuAF7Vl92nq+rUr8CfUoHbIJgx6LfVL5z9Q90aeX0o5gXq+76uTHEm94GUX6nL5EXU5zJpZXA5r2/O/JDmaekHDJ2ZpOz53ZuNSTB83unz2cEbfvmLU5caHA2cOdbsPdbf7FdQP9MMH3rsN9dYIp1O/6Z5P3fj9He2SY264tP6VI8Z35tDwDqYevrmQ+uH3M2qouN1Am1UMXdbduv8xNQxeTd3o7sfo+xg9hroH4grqXoi3Uj8Ub3Tp/UyGuYF5P3b/1PPiTqAe8r2Cuqv7cOAhA23GGjf1H/8d1BB2aVs2P6deEbbHiPYPb+Ne1x4nAA8darNPm0cPH+o+tXz32VCd1G/ir6BeNn4l9QrdhzL6FhI7UO9ddE6rfepebDcbd32nXhV1LPWD5iLqlWa3HGo7atx/2ebbVW2evYZ6/tDwrQTWUE8mHx7/dMv3aW2ar2jL+FsM3AKitXki8I02fy5t9d9rjGmeWgav3Mzud6YGoLPbfP8VNci+YKjdHYEPt3XlIup9/+47n9aDcaaHGgauoV6BN9zv+6n/t/cdnBbqtuJ/qCdy/4Z6nuztR/R/b2qwOb+N4xfUvXhP29j/VHtv1Yh17nCGtuWb2P1Zbb5P/b+fSr1X270G2qxhzPWbeuuGz7T5UaaWI/W2LK+l/h9dRd0W/sU0wziT0beveMY082Xc7pu8HBixbWvd/7mtS9e195cPvLfR7fh8fEzdx0OSpHkpySHUm9HeqZQyfHWidJPmOWKSJEmdGMQkSZI6MYhJkiR14jlikiRJnbhHTJIkqRODmCRJUicGMUmaQ0lWJSlJVvWuRVJ/BjFJN3lJnprkf5KcmuT6JGdupP0zk3wvyVVJzkqy3k8gtXZbJvmnJD9vbb+X5OmzNiEbkWR5kkPa3e4lLQAGMUkLwfOBp1B/nPvcDTVMsh/17uy/oP6M0SeoP/vz3yOavxv4e+pd9l8I/BL4QJK/nFjlM7OcemNTg5i0QPhbk5IWgmcBvyylXJfk89TfIVxP+xHxf6P+hMxeZep3f5JLgL9P8pZSyvdbtxXAM4BXl1IOad3eBZwIHJrkQ6WU387uZEla6NwjJmmTJHlAkmOSXNgO2/04yZuG2tw7ybFJLklyRZKvJ9lrqM3UOVPPTPLSdqjwqtb2gePUUkr5eSnlujGargZ2pP5w9eC9e/6b+juMfz7Q7c+pv2X3XwPjKa3t7YFHbmxkSXZP8tk27ecmeT2w5Yh2j0hyVJIzk1yd5Pwk70+y80CbfYAvtpfva/OstO5Tbf64zbcr2jw/Nsk9h8a1bZLXJflZm8+/bv382camR9LkuUdM0oy1E80/Tf1x7LdTf1j4LtTw8uLW5u7UH5H/LfAm6g/x7gN8PMlTSylHDw32QGAr4C3UbdPfAcckudsE9zxNBbtvDnYspfwqydkD70+1PbOUcsHQML458P4XphtRktsBXwK2Ad4AXEjdc/foEc33Bm5D/ZHs84DdgL8GHpzkvqWUK6l74v6Feqj0bdR5y9RzO3ftSOD7wCuBW1EPp341yYNKKT9t7f8beHp7/kFrd3/gwdQfE5c0hwxikmYkyc2Ad1KD1f1KKecNvHfwQNN/AbZtbX7Y3n8n8F3gTUmOKaVcO9B+B+DeLXSQ5DTgGOAxwHETKn+n9nzOiPfOAe4w1Ha6dgy1HeXlwDLgUaWULwIkeQd1+oe9opRyxWCHJB8H/o967tuRpZTTkxxPDWJfLaW8f6Dtzalh72fAw0op61r3jwLfpi6Lqb19TwTeWUp58UbqlzQHPDQpaaYeQD0H682DIQx+d+iOJFsAjwU+NRXC2vu/oe7NuQM33vsEcPhUCGu+1J7vMsHab9HKHLWH7ar2/mDbq6dpx1DbUfYCvjcVwqgjvgJ4x3DDwRCW5JZJdgR+BFwCrNjIeGhtbg+8bSqEteF+D/gM8LgWoGnDfHCSO40xXEmzzCAmaaamToT//gba3Ja6N+xHI947pT3vOtT9rMEXpZSL2587zLTADbgSyKhbVQBbt/cH2241TTuG2o6yC3DaiO7rdUtyh3ZO2CXUPY0XtMd27bExy9vzdPN7KXWZALwUuCdwVpLvJHl9uzBBUgcGMUnzxXQn22eC49jQYcWdgF8NtZ2uHUNtN1nbU3U88Djg9dRDkY+hnkv2aya8nS6lfJQagp8LnAr8FfCtocPKkuaIQUzSTE2d9H2fDbS5ALgcuMeI96au4jtjkkWN6eT2/KDBjknuAOw88P5U212S3JYbe/DQsKZzFrD7iO7D3e4D3At4SSnltaWUY0opxwNfAbYfalsY7cz2PN38XkddJnUgpZxfSnl3KeXp1On+EnDINHsKJc0ig5ikmfo29aTwA5MsG3wjSQDarSQ+TT036Z4D7y+l3nz1V2w8yMyGL1L3Mr1gqtbmgPY8eCXnh6l7414w1aH18zzqlY0nbmRcxwH3TbJ6oP9tgP2H2l3fnoe3xy8d0e3y9jx8uPIk6o1sn5dk24Hx7cEN5+pdn2SLJLce7LGdl3ca9bYa2yJpTnnVpKQZaR/o+1OD1nfbTU7Pop4T9TRuOIfsH6iH2E5M8lZuuH3FrsBTh66Y3CxJHskN9/VaDtw6ySvb6++WUj7Rar+qHYJ7B/CJJB+j3rrhAOA97eT2qen8VpIPAP+YZAfge9TDho8Anj3GLTVeR70h7LFJ3sINt6+4fKjdqcCPgf9IcmdqyFsFPJQaGofbXgkckOTKNqxvlFLOSPIS6u0rvpLkCG64fcVvqMsC4JbAL5McQ7168yLqxRfPAT5dSrlkI9MkadJKKT58+PAx4wf18N4nqFfhTe1V+Y+hNvcGPk6939iVwNepd7QfbLOKesjtGSPGUYBDxqjlkNZ21OPwEe2fTb2H1tXUnzp6DXDzEe22Al7b2lxNvUDhL2cwj+5JPf/rSmrAOpQaTguwaqDdbtQ9aJe0efVx4K7UQ46HDw1zb2og+20bzj4D7z0R+EYb36XUn2a618D7W1ID4lrgYuAK6gn+rwGW9l6nfPhYjI+UMt0pB5IkSZpNniMmSZLUiUFMkiSpE4OYJElSJwYxSZKkTgxikiRJnRjEJEmSOjGISZIkdWIQkyRJ6sQgJkmS1IlBTJIkqRODmCRJUicGMUmSpE4MYpIkSZ0YxCRJkjoxiEmSJHViEJMkSerEICZJktSJQUySJKkTg5gkSVInBjFJkqRODGKSJEmdGMQkSZI6MYhJkiR1YhCTJEnqxCAmSZLUiUFMkiSpE4OYJElSJ0t6FyDppiXJrYFbDHW+tJRyZY96JOmmzD1ikmbqzcA5Q4+nzsWIk9w7yYeTXJDkqiQ/SfLvQ23umeR/k/wsyeVJLk7yjSTPSpIRw7xLkqOS/DrJlUm+leRJczE9k7ap05LkEUlKe+w8F7VKqtwjJmmm/h14/1C3H872SJOsAj4FnAK8DrgEuDNw16GmdwK2o9Z4NrAV8BjgCGAP4GUDw9wZ+Bp1W/hm4CLgz4GPJnlqKeXo2ZuiydrUaUmyBPgv4HJg2zkqV1KTUkrvGiRpg5IsBU4D1gJPLqVctwnD+ATwh8B2pZSrW7e3As8HHlhK+W7rdjPg68DOwC6llN9OZipm16ZOS5K/BQ4GjgReDNyplHL2nBUuLXIempQ0liS3S7KuBZrB7rsluTDJCUm2nKXRPx24A3BwKeW6JNsm2WKGwzgL2Lo9pjwCOGUquACUUq4HPgTsBPzBTAtN8pdJvpbkNwOH+wYfd5rpMMc042lJshNwCPD3wKWzVJekDTCISRpLKeV84D+BvZI8ACDJjsCngfOAp5RSrhnuL8nNk+w45mOraUb/GOAy4LZJTgHWAeuSfCDJbUb1kGSbNsxdk/wVsC/wrVLKYODYCrhiRO9T3VZubL4MjfPV1EOiBfh/wKuAi9vbXwY+VEr5xVA/k5g/mzothwI/Ad4z/lRKmiSDmKSZeD11z8n/S7I1cCz1vKLHl1IumaafhwEXjPl4+jTD2I167tNxwBrgKcB/AHsDn55m79hr2jBPB95NPX9q76E2pwH3TrLDUPdHtOc7TlPPepKsBP4ROBp4RCnljaWU1wDPaU2OKqWMuqhhEvNnxtOS5A/a8F7U9pxJ6sCT9SWNrZRyUZI3Uvf0fAa4H/AHpZSzNtDbd4FHjzmK6U76XwpsA7yzlHJA63ZMksuoJ+4/Afj4UD+HtRpvC/wR9TyppUNt/gt4IvDhJC+nnuD+NODJ7f3h23RsyN8CVwMHDJ3DtqY932Oa/iYxf2AG0zJwgv6RpZSvjjluSbPAICZppt5EPbn7kcCflFLWbqhxKeVi4PObOc6pe5QNX615JDWIPZyhIFZK+Qn1sBvAB5P8C3Bikt1LKRe2Np9L8jzqnr5vtrbnUE9afxvwm3GKa7fFeCxwwtSwB0wdTrxsVL8Tmj8znZYDgV2oh3wldWQQkzRTr+CGcDHd4cjfaSfwDx8um850N4b9FfXWE+cNdZ96vf0Ywz6KGiCfDLxzqmMp5bAk/wPct3X6NrC6/f3jMeu+I3Uavz/ivRXt+ZRRPU5o/gDjTUu7Ie+rqOeFbZlkeXt/u/a8cxK8clKaGwYxSWNL8lxqEHsZ8BLgn4BVG+ntocAXxxzFvsDhI7qvpe692Zl6LtSUqZuPXjDGsKcOza0X2lq4+cbU6yRTe4rG3VN1q/a83sUK1MODV1EvahhlEvPnd8aYlu2BWwIvao9hX6NeYbp8zJokbQaDmKSxJHks8N/Am0opr09yLfCGJHuWUr6wgV4ncQ7U/1ID4HOBwXE9tz1/dqDO27UrPIc9rz1/a0MFJNkd2B84th3eHMfZwPXAnkleVdoNGpM8HvgL4D9KKRdN0++kzhFbzzTTcj43nDc26GnUX0h4DvCLEe9LmgXe0FXSRiW5H/B/wAnU21Rcn+QWwBnA6aWUh85BDW8H/ho4BjieeshvP+CYUspTBtodQz3U9yXg58BtqCexPxT4SCnlzwba7gx8jHr15y+pV2c+D/g19crHc4ZqKMCXSimrRtT3QWqY+Vir777UUPMl6lWlV2/2TNiAmU7LiP4PoR6y9Iau0hxyj5ikDWof8MdRDwn+xdStDkopVyZ5PXBokseXUj41y6X8DfWQ2XOAvagnor+WepuKQUdRD+E9B9iReljwh8ALqFdSDrqMGtae39qeC7wPeHUp5deDDdvd/WnjHWV/6jlzfwo8HvgZ9Uapb5yju/OPPS2S5g/3iEnSGNphxk8C9yuljDopX5JmzBu6StJ4VlNvymoIkzQx7hGTJEnqxD1ikiRJnRjEJEmSOjGISZIkdWIQkyRJ6sQgJkmS1IlBTJIkqRODmCRJUicGMUmSpE4MYpIkSZ0YxCRJkjoxiEmSJHViEJMkSerEICZJktSJQUySJKkTg5gkSVInBjFJkqRODGKSJEmdGMQkSZI6MYhJkiR1YhCTJEnqxCAmSZLUiUFMkiSpE4OYJElSJwYxSZKkTgxikiRJnSzpXcCm2NSf04sAAB1oSURBVHHHHcvy5ct7l7FgXX755Wy77ba9y9A0XD7zl8tmfnP5zF8LfdmsXbv2wlLKbUe9d5MMYsuXL+ekk07qXcaCtWbNGlatWtW7DE3D5TN/uWzmN5fP/LXQl02Ss6Z7z0OTkiRJnRjEJEmSOjGISZIkdWIQkyRJ6sQgJkmS1IlBTJIkqRODmCRJUicGMUmSpE4MYpIkSZ0YxCRJkjoxiEmSJHViEJMkSerEICZJktSJQUySJKkTg5gkSVInBjFJkqRODGKSJEmdGMQkSZI6MYhJkiR1sqR3AZIkbVCyef2XMpk6pFngHjFJkqRODGKSJEmdGMQkSZI6MYhJkiR1YhCTJEnqxCAmSZLUiUFMkiSpE4OYJElSJwYxSZKkTgxikiRJnRjEJEmSOjGISZIkdWIQkyRJ6sQgJkmS1IlBTJIkqRODmCRJUicGMUmSpE4MYpIkSZ0YxCRJkjoxiEmSJHViEJMkSerEICZJktSJQUySJKkTg5gkSVInBjFJkqRODGKSJEmdGMQkSZI6MYhJkiR1YhCTJEnqxCAmSZLUiUFMkiSpE4OYJElSJ3MWxJK8J8n5SX4w0G2HJMcn+Ul73n6u6pEkSeptLveIHQ48dqjbK4AvlFJ2A77QXkuSJC0KcxbESiknAhcNdf4T4Ij29xHAk+aqHkmSpN56nyO2rJRyTvv7XGBZz2IkSZLmUkopczeyZDnwyVLKHu31JaWU7Qbev7iUMvI8sST7A/sDLFu2bMVRRx01+wUvUuvWrWPp0qW9y9A0XD7zl8tmlqxdu3n9r1gBzJPlM6FpWWjmxbKZRatXr15bSlk56r3eQew0YFUp5ZwkOwFrSim7b2w4K1euLCeddNKs1rqYrVmzhlWrVvUuQ9Nw+cxfLptZkmxe/+1zbl4snwlNy0IzL5bNLEoybRDrfWjy48Cz29/PBo7tWIskSdKcmsvbV3wQ+Bqwe5Kzk+wH/Bvw6CQ/Af6wvZYkSVoUlszViEopT5/mrT3nqgZJkqT5pPehSUmSpEXLICZJktSJQUySJKkTg5gkSVInBjFJkqRODGKSJEmdGMQkSZI6MYhJkiR1YhCTJEnqxCAmSZLUiUFMkiSpE4OYJElSJwYxSZKkTgxikiRJnRjEJEmSOjGISZIkdWIQkyRJ6sQgJkmS1IlBTJIkqRODmCRJUicGMUmSpE4MYpIkSZ0YxCRJkjoxiEmSJHViEJMkSerEICZJktSJQUySJKkTg5gkSVInBjFJkqRODGKSJEmdGMQkSZI6MYhJkiR1YhCTJEnqZEnvAiRJC1yy6f2WMrk6pHnIPWKSJEmdGMQkSZI6MYhJkiR1YhCTJEnqxCAmSZLUiUFMkiSpE4OYJElSJwYxSZKkTgxikiRJnRjEJEmSOjGISZIkdWIQkyRJ6sQgJkmS1IlBTJIkqRODmCRJUicGMUmSpE4MYpIkSZ0YxCRJkjoxiEmSJHViEJMkSerEICZJktSJQUySJKkTg5gkSVInBjFJkqRODGKSJEmdGMQkSZI6MYhJkiR1YhCTJEnqxCAmSZLUiUFMkiSpE4OYJElSJwYxSZKkTgxikiRJncyLIJbkb5P8MMkPknwwyda9a5IkSZpt3YNYkjsCLwJWllL2ALYAnta3KkmSpNnXPYg1S4BbJFkCbAP8qnM9kiRJs657ECul/BI4FPg5cA5waSnlc32rkiRJmn0ppfQtINke+AjwVOAS4Gjgw6WU9w+12x/YH2DZsmUrjjrqqLkuddFYt24dS5cu7V2GpuHymb8mumzWrt30flesmEwNk7K507I5/U8Ng3nyvzOhaVlo5sWymUWrV69eW0pZOeq9+RDE9gYeW0rZr71+FvCQUsoB0/WzcuXKctJJJ81ViYvOmjVrWLVqVe8yNA2Xz/w10WWTbHq/nbfr69ncadmc/qeGwTz535nQtCw082LZzKIk0wax7ocmqYckH5JkmyQB9gRO7VyTJEnSrOsexEop3wA+DJwMfJ9a0zu6FiVJkjQHlvQuAKCU8irgVb3rkCRJmkvd94hJkiQtVgYxSZKkTgxikiRJnRjEJEmSOjGISZIkdWIQkyRJ6sQgJkmS1IlBTJIkqRODmCRJUicGMUmSpE4MYpIkSZ0YxCRJkjoxiEmSJHViEJMkSerEICZJktSJQUySJKkTg5gkSVInBjFJkqRODGKSJEmdGMQkSZI6MYhJkiR1YhCTJEnqxCAmSZLUiUFMkiSpE4OYJElSJwYxSZKkTgxikiRJnRjEJEmSOjGISZIkdWIQkyRJ6sQgJkmS1IlBTJIkqZMlvQuQJM2SZNP7LWVydUialnvEJEmSOjGISZIkdWIQkyRJ6sQgJkmS1IlBTJIkqRODmCRJUicGMUmSpE4MYpIkSZ0YxCRJkjoxiEmSJHViEJMkSepkRr81meQOwJ2BLQe7l1JOnGRRkiRJi8FYQawFsA8AjwQKkPY8ZYvJlyZJkrSwjXto8k3AdcC9gCuARwB7A6cCj52d0iRJkha2cQ9N/gHwhFLKj5IU4IJSyleSXA38E3D8rFUoSZK0QI27R+wWwIXt74uA27W/TwHuO+miJEmSFoNxg9iPgHu0v78DPC/JLsALgF/ORmGSJEkL3biHJt8M3L79/RrgM8DTgauBZ89CXZIkSQveWEGslHLkwN8nJ1lO3UP281LKhdP1J0mSpOnN6D5iU0opVwAnT7gWSZKkRWXaIJbkLcDBpZTL29/TKqW8aOKVSZIkLXAb2iN2H+DmA39Pp2zgPUmSJE1j2iBWSlk96m9JkiRNxli3r0iyZZKtR3TfOsmWo/qRJEnSho17H7GjgQNGdH8e8KHJlSNJkrR4jBvEHgZ8bkT344GHTq4cSZKkxWPcILYNcO2I7tcDt5xcOZIkSYvHuEHse9Q76Q/7C+AHkytHkiRp8Rj3hq6vAY5NcjfghNZtT2Bv4MmzUZgkSdJCN9YesVLKp4A/BnYB3tIedwaeWEr55OyVJ0mStHCN/RNHpZTPUH/sW5IkSRMw49+aTLIdQ3vSSikXTawiSZKkRWKsIJZkF+DtwCpg8Aauof7E0RYTr0ySJGmBG3eP2HuB7YD9gF8x4d+XbHvZ3gXs0Yb9V6WUr01yHJIkSfPNuEHs94CHlFJm61YVbwY+U0r5s/aTSdvM0ngkSZLmjXGD2BnAVrNRQJJbA48E9gEopVwDXDMb45IkSZpPxr2h64HAv7b7iE3arsAFwHuTfDvJu5JsOwvjkSRJmldSysZP90ryG+oesS2Aqxn6uaNSyq02uYBkJfB14GGllG8keTNwWSnlH4fa7Q/sD7Bs2bIVRx111KaOUhuxbt06li5d2rsMTcPlM39NdNmsXbvp/a5YsbCGsTn9Dwxj3c47s/Tss7vXsdnDmIT5Ukez0Ldrq1evXltKWTnqvXGD2LM39H4p5YhNrI0ktwe+XkpZ3l4/AnhFKeUJ0/WzcuXKctJJJ23qKLURa9asYdWqVb3L0DRcPvPXRJdNsun9Tm3XF8owNqf/gWGsOfRQVh10UPc6NnsYkzBf6mgW+nYtybRBbKxzxDYnaI0x7HOT/CLJ7qWU06g/nXTKbI1PkiRpvhj7hq5JlgHPBO4K/GMp5cIkDwN+VUo5YzPreCFwZLti8nRg380cniRJ0rw37g1dVwBfoF49eW/g9cCFwKOBuwN/sTlFlFK+A4zcZSdJkrRQjXvV5KHAm0spD6CerD/ls8DDJl6VJEnSIjBuEFsBjDpP7Bxg2eTKkSRJWjzGDWJXAtuP6H4P4PzJlSNJkrR4jBvEjgVelWTq7volyXLgdcBHZqEuSZKkBW/cIHYQsAP1DvjbAF8GfgpcArxydkqTJEla2Ma9j9hlwMOTPAp4IDXAnVxK+fxsFidJkrSQjX0fMYBSygnACbNUiyRJ0qIy7n3EXrKh90spb5hMOZIkSYvHuHvEXjj0+ubATtSrKc8HDGKSJEkzNO45YrsOd2s/efRe4J2TLkqSJGkxGPeqyfWUUs4D/gH498mVI0mStHhschAb6N8760uSJG2CcU/Wf8pwJ+o5Yi8A/m/SRUmSJC0G456s/+Gh14V6c9cTgJdOtCJJkqRFYtyT9Tf3EKYkSZKGGLAkSZI6GSuIJXlvkvUOQSZ5SZJ3Tb4sSZKkhW/cPWKPY/RPG50APH5y5UiSJC0e4wax7YB1I7pfDuwwuXIkSZIWj3GD2I8ZvefrCcBPJ1eOJEnS4jHu7Sv+A3h7kttxwyHKPYEXU+8lJkmSpBka9/YVRyTZGnglcHDr/EvgJaWU985WcZIkSQvZuHvEKKUcBhyW5Lbt9QWzVpUkSdIiMKP7iCVZCTwKuKK93jbJ2GFOkiRJNxj3tyaXAccCv0f9eaPdgNOBNwBXAQfOVoGSJEkL1bh7xN4InAfchrY3rDkaeMyki5IkSVoMxj2suCewZynl4iSD3X8G3HniVUmSJC0C4+4RuwVwzYjut6UempQkSdIMjRvETgT2GXhdkmwBvBz4wqSLkiRJWgzGPTT5MuBLSR4EbEW9weu9gVsDD5ul2iRJkha0sfaIlVJOAe4DfBX4HLA19UT9B5RSfjZ75UmSJC1cG90jluTmwJeBZ5VSXjX7JUmSJC0OG90jVkr5LbAr9f5hkiRJmpBxT9Y/AnjubBYiaZFLNv0hSTdR456svy3wl0keDawFLh98s5TyokkXJkmStNCNG8TuCZzc/r7L0HsespQkSdoEGwxiSe4L/KCUsnqO6pEkSVo0NnaO2LeBHadeJDkuyU6zW5IkSdLisLEgNnwW7COpP3ckSZKkzTTuVZOSJEmasI0FscL6J+N7cr4kSdIEbOyqyQDvT3J1e7018M4kVww2KqU8cTaKkyRJWsg2FsSOGHr9/tkqRJIkabHZYBArpew7V4VIkiQtNp6sL0mS1IlBTJIkqRODmCRJUicGMUmSpE4MYpIkSZ0YxCRJkjoxiEmSJHViEJMkSerEICZJktSJQUySJKkTg5gkSVInBjFJkqRODGKSJEmdGMQkSZI6MYhJkiR1YhCTJEnqxCAmSZLUiUFMkiSpE4OYJElSJwYxSZKkTgxikiRJnRjEJEmSOpk3QSzJFkm+neSTvWuRJEmaC/MmiAEHAqf2LkKSJGmuzIsglmRn4AnAu3rXIkmSNFfmRRAD3gS8DLi+dyGSJElzJaWUvgUkewGPL6UckGQVcFApZa8R7fYH9gdYtmzZiqOOOmpuC11E1q1bx9KlS3uXoWks2OWzdu2m97tixeTq2AwTXTaTmB8LZRib0//AMNbtvDNLzz67ex0LZhgTtGC3a83q1avXllJWjnpvPgSxfwWeCVwLbA3cCvhoKeUZ0/WzcuXKctJJJ81RhYvPmjVrWLVqVe8yNI0Fu3ySTe+383ZsykSXzSTmx0IZxub0PzCMNYceyqqDDupex4IZxgQt2O1ak2TaINb90GQp5eBSys6llOXA04ATNhTCJEmSForuQUySJGmxWtK7gEGllDXAms5lSJIkzQn3iEmSJHViEJMkSerEICZJktSJQUySJKkTg5gkSVInBjFJkqRODGKSJEmdGMQkSZI6MYhJkiR1YhCTJEnqxCAmSZLUiUFMkiSpE4OYJElSJwYxSZKkTgxikiRJnRjEJEmSOjGISZIkdWIQkyRJ6sQgJkmS1IlBTJIkqRODmCRJUicGMUmSpE4MYpIkSZ0YxCRJkjoxiEmSJHViEJMkSerEICZJktSJQUySJKkTg5gkSVInBjFJkqRODGKSJEmdGMQkSZI6MYhJkiR1YhCTpEHJpj+kxWRz/lf8f/kdg5gkSVInBjFJkqRODGKSJEmdGMQkSZI6MYhJkiR1YhCTJEnqxCAmSZLUiUFMkiSpE4OYJElSJwYxSZKkTgxikiRJnRjEJEmSOjGISZIkdWIQkyRJ6sQgJkmS1IlBTJIkqRODmCRJUicGMUmSpE4MYpIkSZ0YxCRJkjoxiEmSJHViEJMkSerEICZJktSJQUySJKkTg5gkSVInBjFJkqRODGKSJEmdGMQkSZI6MYhJkiR1YhCTJEnqxCAmSZLUiUFMkiSpE4OYJElSJ92DWJI7JfliklOS/DDJgb1rkiRJmgtLehcAXAu8tJRycpJbAmuTHF9KOaV3YZIkSbOp+x6xUso5pZST29+/AU4F7ti3KkmSpNmXUkrvGn4nyXLgRGCPUsplQ+/tD+wPsGzZshVHHXXUnNe3WKxbt46lS5dOfsBr1256vytWTK6Om7gbLZ/5Mk8nUccCGMa63Xevy2YBTMu8Gsbm9D8wjHU778zSs8/uXofDGBhGM2ufO/PE6tWr15ZSVo56b94EsSRLgS8Bry2lfHRDbVeuXFlOOumkuSlsEVqzZg2rVq2a/ICTTe93nqyn88GNls98maeTqGMBDGPNF79Yl80CmJZ5NYzN6X9gGGsOPZRVBx3UvQ6HMTCMZtY+d+aJJNMGse6HJgGS3Bz4CHDkxkKYJEnSQtE9iCUJ8G7g1FLKG3rXI0mSNFe6BzHgYcAzgUcl+U57PL53UZIkSbOt++0rSilfBjbzQLMkSdJNz3zYIyZJkrQoGcQkSZI6MYhJkiR1YhCTJEnqxCAmSZLUiUFMkiSpE4OYJElSJwYxSZKkTgxikiRJnRjEJEmSOjGISZIkdWIQkyRJ6sQgJkmS1IlBTJIkqRODmCRJUicGMUmSpE4MYpIkSZ0YxCRJkjoxiEmSJHViEJMkSerEICZJktSJQUySJKkTg5gkSVInBjFJkqRODGKSJEmdGMQkSZI6MYhJkiR1YhCTJEnqxCAmSZLUiUFMkiSpE4OYJElSJwYxSZKkTpb0LmDeSja931ImV8d8sZDmxySmxflRzbdpkbT43MS3Ye4RkyRJ6sQgJkmS1IlBTJIkqRODmCRJUicGMUmSpE4MYpIkSZ0YxCRJkjoxiEmSJHViEJMkSerEICZJktSJQUySJKkTg5gkSVInBjFJkqRODGKSJEmdGMQkSZI6MYhJkiR1YhCTJEnqxCAmSZLUiUFMkiSpE4OYJElSJwYxSZKkTgxikiRJnRjEJEmSOjGISZIkdWIQkyRJ6sQgJkmS1IlBTJIkqRODmCRJUicGMUmSpE4MYpIkSZ0YxCRJkjoxiEmSJHViEJMkSepkXgSxJI9NclqSnyZ5Re96JEmS5kL3IJZkC+C/gMcB9wKenuRefauSJEmafd2DGPB7wE9LKaeXUq4BjgL+pHNNkiRJs24+BLE7Ar8YeH126yZJkrSgLeldwLiS7A/s316uS3Jaz3o2KOldwebaEbhwYkObxPyYL/N0fkzLZJbP/JiWhTWM1as3f9nMl2lZiMM46KBNXz7zbVoW3jAm+7mzaTXMpl2me2M+BLFfAncaeL1z63YjpZR3AO+Yq6IWsyQnlVJW9q5Do7l85i+Xzfzm8pm/FvOymQ+HJr8F7JZk1yRbAk8DPt65JkmSpFnXfY9YKeXaJH8DfBbYAnhPKeWHncuSJEmadd2DGEAp5VPAp3rXod/xEPD85vKZv1w285vLZ/5atMsmpZTeNUiSJC1K8+EcMUmSpEXJILaIJdkiybeTfLK93jXJN9pPTf1vu3iCJFu11z9t7y/vWfdCl+TMJN9P8p0kJ7VuOyQ5PslP2vP2rXuSvKUtm+8leWDf6he+JNsl+XCSHyU5Ncnvu3z6S7J7+5+ZelyW5MUum/kjyd8m+WGSHyT5YJKt/dwxiC12BwKnDrx+HfDGUsrdgIuB/Vr3/YCLW/c3tnaaXatLKfcfuJz7FcAXSim7AV9or6H+NNhu7bE/8LY5r3TxeTPwmVLKPYD7Uf+HXD6dlVJOa/8z9wdWAFcAx+CymReS3BF4EbCylLIH9eK8p+HnjkFssUqyM/AE4F3tdYBHAR9uTY4AntT+/pP2mvb+nq295s7gMhheNv9Tqq8D2yXZqUeBi0GSWwOPBN4NUEq5ppRyCS6f+WZP4GellLNw2cwnS4BbJFkCbAOcg587BrFF7E3Ay4Dr2+vbAJeUUq5trwd/aup3P0PV3r+0tdfsKMDnkqxtvygBsKyUck77+1xgWfvbnwibW7sCFwDvbYf135VkW1w+883TgA+2v10280Ap5ZfAocDPqQHsUmAtfu4YxBajJHsB55dS1vauRSM9vJTyQOqhkxckeeTgm6Ve6uzlzn0sAR4IvK2U8gDgcm441AW4fHpr5xg9ETh6+D2XTT/t3Lw/oX6ZuQOwLfDYrkXNEwaxxelhwBOTnAkcRd01/Gbqrvmpe8sN/tTU736Gqr1/a+DXc1nwYtK+OVJKOZ96jsvvAedNHTZpz+e35mP9RJgm5mzg7FLKN9rrD1ODmctn/ngccHIp5bz22mUzP/whcEYp5YJSym+Bj1I/ixb9545BbBEqpRxcStm5lLKcugv/hFLKXwJfBP6sNXs2cGz7++PtNe39E4o3oJsVSbZNcsupv4HHAD/gxstgeNk8q10B9hDg0oHDMJqwUsq5wC+S7N467QmcgstnPnk6NxyWBJfNfPFz4CFJtmnnek397yz6zx1v6LrIJVkFHFRK2SvJXah7yHYAvg08o5RydZKtgfcBDwAuAp5WSjm9V80LWVsGx7SXS4APlFJem+Q2wIeAOwNnAX9eSrmobdDeSt3FfwWwbynlpA6lLxpJ7k+9yGVL4HRgX+qXWpdPZ+3Ly8+Bu5RSLm3d/N+ZJ5K8GngqcC31M+Y51HPBFvXnjkFMkiSpEw9NSpIkdWIQkyRJ6sQgJkmS1IlBTJIkqRODmCRJUicGMUnaiCSrkpQkO26gzZ8l2ezL0JP8IMkhmzscSTcNBjFJ3SQ5PMknZ9B+TZK3zmZN0/gqsBML9M7ekvpZsvEmkrS4lVKuof5gtCRNlHvEJM0LU3vHkhyY5JdJLk7y3iTbTL0P/AH1h9BLeyxv790ryXFJfpPk/CQfTHL7cYfd2jwyydeTrEtyaZJvJtmjvbfeockkz0pyVpIr2l69ZUPTc9ckxyY5N8nlSU5OstdQm9u1Nle2Yf3VpOerpPnNICZpPnkEsAf1B4KfCjwZOLC9dyDwNeC91MOEO1F/93En4ETqb3L+Xut3KXBskpuNM+z2o8LHAl8G7gc8GHgTcN2oIpM8GDgceAdwf+ATwGuGmi0FPg08ug3zI8BHk9xjoM3hwN1aTU8CngUs3+AckrSgeGhS0nxyGfC8Usp1wKlJjqb+OPC/llIuTXINcEX78W0Akjwf+G4p5eUD3Z5F/X26lcA3NzZs4FbAdsAnSik/a+1/tIE6DwS+UEp5bXv94yQPAvabalBK+S7w3YF+Xpvkj6k/YPzPSe4OPA54eCnlK63uZ1N/v1LSIuEeMUnzySktKE35FXC7jfSzAnhkO6S4Lsk64BftvbuOM+xSykXUvVOfbYc4X5LkzhsY5z2pe+cG3eh1km2T/HuSU9qh0HXUYHjngWFczw1BkVLKWa0uSYuEQUzSfPLbodeFjW+nbgYcRz1EOPjYDRi8InODwy6l7Es9JHki8ETgtCR/NMP6Bx0K7A38I/XctvtTQ9eWI+qQtEh5aFLSTck1wBZD3U4G/hw4q5QyHLZmZOBw4uuS/9/OHbtkFcVhHP8+m4u0NDlkCbUp4aCZLoL/QP4DuTi4urk5KjgJDropGUQ0p0tLi3OQlYtODrkXTcfh3EBeDF5wOLz5/cCFe+8598K908Pv/s7NR+A1cHzL1G/Ai55zvcdzwEEp5QNAkiFqhe6sG/9ODYJT1N9j0FXhRu7yDJIGixUxSYPkAphK8jjJw64Zfwd4ALxLMp1kLMlCkr0kw/3cNMmTJBtJXiYZTTIPTACn/7hkG1hIspbkaZJlavP/TWfAqySTScaBN8DQ38FSyg/gCNhNMpPkOfXz6O8+34Wk/4BBTNIg2aJWxU6BK+BRKeUSmKX2Wx0BX6nh7E+39eMX8Ax4Tw1Q+8AhsHnb5FLKCbUxfwX4AiwC6z3TVoGfwGfq6smTbv+mJeAc+ERdefmWGjYl3RMpxfYESZKkFqyISZIkNWIQkyRJasQgJkmS1IhBTJIkqRGDmCRJUiMGMUmSpEYMYpIkSY0YxCRJkhoxiEmSJDVyDXv3DkCgMryfAAAAAElFTkSuQmCC\n"
                },
                "metadata": {
                  "needs_background": "light"
                }
              },
              {
                "output_type": "stream",
                "name": "stdout",
                "text": [
                  "Error estándar predicho  por la ecuación: 9.4420\n",
                  "El valor a reportar ahora es 638.8 +/- 9.4\n"
                ]
              }
            ]
          }
        },
        "77b451f894ee433ab9b864b978a0a6bf": {
          "model_module": "@jupyter-widgets/base",
          "model_name": "LayoutModel",
          "model_module_version": "1.2.0",
          "state": {
            "_model_module": "@jupyter-widgets/base",
            "_model_module_version": "1.2.0",
            "_model_name": "LayoutModel",
            "_view_count": null,
            "_view_module": "@jupyter-widgets/base",
            "_view_module_version": "1.2.0",
            "_view_name": "LayoutView",
            "align_content": null,
            "align_items": null,
            "align_self": null,
            "border": null,
            "bottom": null,
            "display": null,
            "flex": null,
            "flex_flow": null,
            "grid_area": null,
            "grid_auto_columns": null,
            "grid_auto_flow": null,
            "grid_auto_rows": null,
            "grid_column": null,
            "grid_gap": null,
            "grid_row": null,
            "grid_template_areas": null,
            "grid_template_columns": null,
            "grid_template_rows": null,
            "height": null,
            "justify_content": null,
            "justify_items": null,
            "left": null,
            "margin": null,
            "max_height": null,
            "max_width": null,
            "min_height": null,
            "min_width": null,
            "object_fit": null,
            "object_position": null,
            "order": null,
            "overflow": null,
            "overflow_x": null,
            "overflow_y": null,
            "padding": null,
            "right": null,
            "top": null,
            "visibility": null,
            "width": null
          }
        },
        "78a26e5000a941f6924942b9a74b0f71": {
          "model_module": "@jupyter-widgets/base",
          "model_name": "LayoutModel",
          "model_module_version": "1.2.0",
          "state": {
            "_model_module": "@jupyter-widgets/base",
            "_model_module_version": "1.2.0",
            "_model_name": "LayoutModel",
            "_view_count": null,
            "_view_module": "@jupyter-widgets/base",
            "_view_module_version": "1.2.0",
            "_view_name": "LayoutView",
            "align_content": null,
            "align_items": null,
            "align_self": null,
            "border": null,
            "bottom": null,
            "display": null,
            "flex": null,
            "flex_flow": null,
            "grid_area": null,
            "grid_auto_columns": null,
            "grid_auto_flow": null,
            "grid_auto_rows": null,
            "grid_column": null,
            "grid_gap": null,
            "grid_row": null,
            "grid_template_areas": null,
            "grid_template_columns": null,
            "grid_template_rows": null,
            "height": null,
            "justify_content": null,
            "justify_items": null,
            "left": null,
            "margin": null,
            "max_height": null,
            "max_width": null,
            "min_height": null,
            "min_width": null,
            "object_fit": null,
            "object_position": null,
            "order": null,
            "overflow": null,
            "overflow_x": null,
            "overflow_y": null,
            "padding": null,
            "right": null,
            "top": null,
            "visibility": null,
            "width": null
          }
        },
        "066fdfb774cf4de2b656e4eecf013a15": {
          "model_module": "@jupyter-widgets/controls",
          "model_name": "DescriptionStyleModel",
          "model_module_version": "1.5.0",
          "state": {
            "_model_module": "@jupyter-widgets/controls",
            "_model_module_version": "1.5.0",
            "_model_name": "DescriptionStyleModel",
            "_view_count": null,
            "_view_module": "@jupyter-widgets/base",
            "_view_module_version": "1.2.0",
            "_view_name": "StyleView",
            "description_width": ""
          }
        },
        "d4548821ecef444c8cea66c401470892": {
          "model_module": "@jupyter-widgets/base",
          "model_name": "LayoutModel",
          "model_module_version": "1.2.0",
          "state": {
            "_model_module": "@jupyter-widgets/base",
            "_model_module_version": "1.2.0",
            "_model_name": "LayoutModel",
            "_view_count": null,
            "_view_module": "@jupyter-widgets/base",
            "_view_module_version": "1.2.0",
            "_view_name": "LayoutView",
            "align_content": null,
            "align_items": null,
            "align_self": null,
            "border": null,
            "bottom": null,
            "display": null,
            "flex": null,
            "flex_flow": null,
            "grid_area": null,
            "grid_auto_columns": null,
            "grid_auto_flow": null,
            "grid_auto_rows": null,
            "grid_column": null,
            "grid_gap": null,
            "grid_row": null,
            "grid_template_areas": null,
            "grid_template_columns": null,
            "grid_template_rows": null,
            "height": null,
            "justify_content": null,
            "justify_items": null,
            "left": null,
            "margin": null,
            "max_height": null,
            "max_width": null,
            "min_height": null,
            "min_width": null,
            "object_fit": null,
            "object_position": null,
            "order": null,
            "overflow": null,
            "overflow_x": null,
            "overflow_y": null,
            "padding": null,
            "right": null,
            "top": null,
            "visibility": null,
            "width": null
          }
        },
        "b717e3b288fb479b9728d4d1a7e62d13": {
          "model_module": "@jupyter-widgets/controls",
          "model_name": "VBoxModel",
          "model_module_version": "1.5.0",
          "state": {
            "_dom_classes": [
              "widget-interact"
            ],
            "_model_module": "@jupyter-widgets/controls",
            "_model_module_version": "1.5.0",
            "_model_name": "VBoxModel",
            "_view_count": null,
            "_view_module": "@jupyter-widgets/controls",
            "_view_module_version": "1.5.0",
            "_view_name": "VBoxView",
            "box_style": "",
            "children": [
              "IPY_MODEL_d9ea9abbff684ddc9742a8467ab5f679",
              "IPY_MODEL_490e6e1c05c24eb387660fa430ceafd5"
            ],
            "layout": "IPY_MODEL_0a2ecc3b15714016bed7dd4554a46186"
          }
        },
        "d9ea9abbff684ddc9742a8467ab5f679": {
          "model_module": "@jupyter-widgets/controls",
          "model_name": "DropdownModel",
          "model_module_version": "1.5.0",
          "state": {
            "_dom_classes": [],
            "_model_module": "@jupyter-widgets/controls",
            "_model_module_version": "1.5.0",
            "_model_name": "DropdownModel",
            "_options_labels": [
              "100",
              "500",
              "2000"
            ],
            "_view_count": null,
            "_view_module": "@jupyter-widgets/controls",
            "_view_module_version": "1.5.0",
            "_view_name": "DropdownView",
            "description": "n",
            "description_tooltip": null,
            "disabled": false,
            "index": 0,
            "layout": "IPY_MODEL_d164870e4fbb457e82f1a989ed494451",
            "style": "IPY_MODEL_6c6edea0185f459690352dc18e561924"
          }
        },
        "490e6e1c05c24eb387660fa430ceafd5": {
          "model_module": "@jupyter-widgets/output",
          "model_name": "OutputModel",
          "model_module_version": "1.0.0",
          "state": {
            "_dom_classes": [],
            "_model_module": "@jupyter-widgets/output",
            "_model_module_version": "1.0.0",
            "_model_name": "OutputModel",
            "_view_count": null,
            "_view_module": "@jupyter-widgets/output",
            "_view_module_version": "1.0.0",
            "_view_name": "OutputView",
            "layout": "IPY_MODEL_7fe495d95a0e4af1b1cf1060dda516dc",
            "msg_id": "",
            "outputs": [
              {
                "output_type": "stream",
                "name": "stdout",
                "text": [
                  "El error relativo porcentual de 100 repeticiones es: \n",
                  " 1.77 \n",
                  "\n"
                ]
              }
            ]
          }
        },
        "0a2ecc3b15714016bed7dd4554a46186": {
          "model_module": "@jupyter-widgets/base",
          "model_name": "LayoutModel",
          "model_module_version": "1.2.0",
          "state": {
            "_model_module": "@jupyter-widgets/base",
            "_model_module_version": "1.2.0",
            "_model_name": "LayoutModel",
            "_view_count": null,
            "_view_module": "@jupyter-widgets/base",
            "_view_module_version": "1.2.0",
            "_view_name": "LayoutView",
            "align_content": null,
            "align_items": null,
            "align_self": null,
            "border": null,
            "bottom": null,
            "display": null,
            "flex": null,
            "flex_flow": null,
            "grid_area": null,
            "grid_auto_columns": null,
            "grid_auto_flow": null,
            "grid_auto_rows": null,
            "grid_column": null,
            "grid_gap": null,
            "grid_row": null,
            "grid_template_areas": null,
            "grid_template_columns": null,
            "grid_template_rows": null,
            "height": null,
            "justify_content": null,
            "justify_items": null,
            "left": null,
            "margin": null,
            "max_height": null,
            "max_width": null,
            "min_height": null,
            "min_width": null,
            "object_fit": null,
            "object_position": null,
            "order": null,
            "overflow": null,
            "overflow_x": null,
            "overflow_y": null,
            "padding": null,
            "right": null,
            "top": null,
            "visibility": null,
            "width": null
          }
        },
        "d164870e4fbb457e82f1a989ed494451": {
          "model_module": "@jupyter-widgets/base",
          "model_name": "LayoutModel",
          "model_module_version": "1.2.0",
          "state": {
            "_model_module": "@jupyter-widgets/base",
            "_model_module_version": "1.2.0",
            "_model_name": "LayoutModel",
            "_view_count": null,
            "_view_module": "@jupyter-widgets/base",
            "_view_module_version": "1.2.0",
            "_view_name": "LayoutView",
            "align_content": null,
            "align_items": null,
            "align_self": null,
            "border": null,
            "bottom": null,
            "display": null,
            "flex": null,
            "flex_flow": null,
            "grid_area": null,
            "grid_auto_columns": null,
            "grid_auto_flow": null,
            "grid_auto_rows": null,
            "grid_column": null,
            "grid_gap": null,
            "grid_row": null,
            "grid_template_areas": null,
            "grid_template_columns": null,
            "grid_template_rows": null,
            "height": null,
            "justify_content": null,
            "justify_items": null,
            "left": null,
            "margin": null,
            "max_height": null,
            "max_width": null,
            "min_height": null,
            "min_width": null,
            "object_fit": null,
            "object_position": null,
            "order": null,
            "overflow": null,
            "overflow_x": null,
            "overflow_y": null,
            "padding": null,
            "right": null,
            "top": null,
            "visibility": null,
            "width": null
          }
        },
        "6c6edea0185f459690352dc18e561924": {
          "model_module": "@jupyter-widgets/controls",
          "model_name": "DescriptionStyleModel",
          "model_module_version": "1.5.0",
          "state": {
            "_model_module": "@jupyter-widgets/controls",
            "_model_module_version": "1.5.0",
            "_model_name": "DescriptionStyleModel",
            "_view_count": null,
            "_view_module": "@jupyter-widgets/base",
            "_view_module_version": "1.2.0",
            "_view_name": "StyleView",
            "description_width": ""
          }
        },
        "7fe495d95a0e4af1b1cf1060dda516dc": {
          "model_module": "@jupyter-widgets/base",
          "model_name": "LayoutModel",
          "model_module_version": "1.2.0",
          "state": {
            "_model_module": "@jupyter-widgets/base",
            "_model_module_version": "1.2.0",
            "_model_name": "LayoutModel",
            "_view_count": null,
            "_view_module": "@jupyter-widgets/base",
            "_view_module_version": "1.2.0",
            "_view_name": "LayoutView",
            "align_content": null,
            "align_items": null,
            "align_self": null,
            "border": null,
            "bottom": null,
            "display": null,
            "flex": null,
            "flex_flow": null,
            "grid_area": null,
            "grid_auto_columns": null,
            "grid_auto_flow": null,
            "grid_auto_rows": null,
            "grid_column": null,
            "grid_gap": null,
            "grid_row": null,
            "grid_template_areas": null,
            "grid_template_columns": null,
            "grid_template_rows": null,
            "height": null,
            "justify_content": null,
            "justify_items": null,
            "left": null,
            "margin": null,
            "max_height": null,
            "max_width": null,
            "min_height": null,
            "min_width": null,
            "object_fit": null,
            "object_position": null,
            "order": null,
            "overflow": null,
            "overflow_x": null,
            "overflow_y": null,
            "padding": null,
            "right": null,
            "top": null,
            "visibility": null,
            "width": null
          }
        },
        "ba3daadd129d4945b14e1472fb653126": {
          "model_module": "@jupyter-widgets/controls",
          "model_name": "VBoxModel",
          "model_module_version": "1.5.0",
          "state": {
            "_dom_classes": [
              "widget-interact"
            ],
            "_model_module": "@jupyter-widgets/controls",
            "_model_module_version": "1.5.0",
            "_model_name": "VBoxModel",
            "_view_count": null,
            "_view_module": "@jupyter-widgets/controls",
            "_view_module_version": "1.5.0",
            "_view_name": "VBoxView",
            "box_style": "",
            "children": [
              "IPY_MODEL_e3bf502177a940d2810cc94b8b351665",
              "IPY_MODEL_d26347603cd24d31a258173d08bdf341"
            ],
            "layout": "IPY_MODEL_4da605994ed845c5b0238be34e6a9121"
          }
        },
        "e3bf502177a940d2810cc94b8b351665": {
          "model_module": "@jupyter-widgets/controls",
          "model_name": "DropdownModel",
          "model_module_version": "1.5.0",
          "state": {
            "_dom_classes": [],
            "_model_module": "@jupyter-widgets/controls",
            "_model_module_version": "1.5.0",
            "_model_name": "DropdownModel",
            "_options_labels": [
              "100",
              "500",
              "2000"
            ],
            "_view_count": null,
            "_view_module": "@jupyter-widgets/controls",
            "_view_module_version": "1.5.0",
            "_view_name": "DropdownView",
            "description": "n",
            "description_tooltip": null,
            "disabled": false,
            "index": 0,
            "layout": "IPY_MODEL_5ed584980b5e4edea3b8eaa069061897",
            "style": "IPY_MODEL_e0d933f054224c408236cae636a2a990"
          }
        },
        "d26347603cd24d31a258173d08bdf341": {
          "model_module": "@jupyter-widgets/output",
          "model_name": "OutputModel",
          "model_module_version": "1.0.0",
          "state": {
            "_dom_classes": [],
            "_model_module": "@jupyter-widgets/output",
            "_model_module_version": "1.0.0",
            "_model_name": "OutputModel",
            "_view_count": null,
            "_view_module": "@jupyter-widgets/output",
            "_view_module_version": "1.0.0",
            "_view_name": "OutputView",
            "layout": "IPY_MODEL_cf8ed463176f4e2f8d2e0cb327822d8a",
            "msg_id": "",
            "outputs": [
              {
                "output_type": "display_data",
                "data": {
                  "text/plain": "<Figure size 720x576 with 1 Axes>",
                  "image/png": "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\n"
                },
                "metadata": {
                  "needs_background": "light"
                }
              },
              {
                "output_type": "stream",
                "name": "stdout",
                "text": [
                  "Error estándar predicho  por la ecuación: 14.4161\n",
                  "El valor a reportar ahora es 593.3 +/- 14.4\n"
                ]
              }
            ]
          }
        },
        "4da605994ed845c5b0238be34e6a9121": {
          "model_module": "@jupyter-widgets/base",
          "model_name": "LayoutModel",
          "model_module_version": "1.2.0",
          "state": {
            "_model_module": "@jupyter-widgets/base",
            "_model_module_version": "1.2.0",
            "_model_name": "LayoutModel",
            "_view_count": null,
            "_view_module": "@jupyter-widgets/base",
            "_view_module_version": "1.2.0",
            "_view_name": "LayoutView",
            "align_content": null,
            "align_items": null,
            "align_self": null,
            "border": null,
            "bottom": null,
            "display": null,
            "flex": null,
            "flex_flow": null,
            "grid_area": null,
            "grid_auto_columns": null,
            "grid_auto_flow": null,
            "grid_auto_rows": null,
            "grid_column": null,
            "grid_gap": null,
            "grid_row": null,
            "grid_template_areas": null,
            "grid_template_columns": null,
            "grid_template_rows": null,
            "height": null,
            "justify_content": null,
            "justify_items": null,
            "left": null,
            "margin": null,
            "max_height": null,
            "max_width": null,
            "min_height": null,
            "min_width": null,
            "object_fit": null,
            "object_position": null,
            "order": null,
            "overflow": null,
            "overflow_x": null,
            "overflow_y": null,
            "padding": null,
            "right": null,
            "top": null,
            "visibility": null,
            "width": null
          }
        },
        "5ed584980b5e4edea3b8eaa069061897": {
          "model_module": "@jupyter-widgets/base",
          "model_name": "LayoutModel",
          "model_module_version": "1.2.0",
          "state": {
            "_model_module": "@jupyter-widgets/base",
            "_model_module_version": "1.2.0",
            "_model_name": "LayoutModel",
            "_view_count": null,
            "_view_module": "@jupyter-widgets/base",
            "_view_module_version": "1.2.0",
            "_view_name": "LayoutView",
            "align_content": null,
            "align_items": null,
            "align_self": null,
            "border": null,
            "bottom": null,
            "display": null,
            "flex": null,
            "flex_flow": null,
            "grid_area": null,
            "grid_auto_columns": null,
            "grid_auto_flow": null,
            "grid_auto_rows": null,
            "grid_column": null,
            "grid_gap": null,
            "grid_row": null,
            "grid_template_areas": null,
            "grid_template_columns": null,
            "grid_template_rows": null,
            "height": null,
            "justify_content": null,
            "justify_items": null,
            "left": null,
            "margin": null,
            "max_height": null,
            "max_width": null,
            "min_height": null,
            "min_width": null,
            "object_fit": null,
            "object_position": null,
            "order": null,
            "overflow": null,
            "overflow_x": null,
            "overflow_y": null,
            "padding": null,
            "right": null,
            "top": null,
            "visibility": null,
            "width": null
          }
        },
        "e0d933f054224c408236cae636a2a990": {
          "model_module": "@jupyter-widgets/controls",
          "model_name": "DescriptionStyleModel",
          "model_module_version": "1.5.0",
          "state": {
            "_model_module": "@jupyter-widgets/controls",
            "_model_module_version": "1.5.0",
            "_model_name": "DescriptionStyleModel",
            "_view_count": null,
            "_view_module": "@jupyter-widgets/base",
            "_view_module_version": "1.2.0",
            "_view_name": "StyleView",
            "description_width": ""
          }
        },
        "cf8ed463176f4e2f8d2e0cb327822d8a": {
          "model_module": "@jupyter-widgets/base",
          "model_name": "LayoutModel",
          "model_module_version": "1.2.0",
          "state": {
            "_model_module": "@jupyter-widgets/base",
            "_model_module_version": "1.2.0",
            "_model_name": "LayoutModel",
            "_view_count": null,
            "_view_module": "@jupyter-widgets/base",
            "_view_module_version": "1.2.0",
            "_view_name": "LayoutView",
            "align_content": null,
            "align_items": null,
            "align_self": null,
            "border": null,
            "bottom": null,
            "display": null,
            "flex": null,
            "flex_flow": null,
            "grid_area": null,
            "grid_auto_columns": null,
            "grid_auto_flow": null,
            "grid_auto_rows": null,
            "grid_column": null,
            "grid_gap": null,
            "grid_row": null,
            "grid_template_areas": null,
            "grid_template_columns": null,
            "grid_template_rows": null,
            "height": null,
            "justify_content": null,
            "justify_items": null,
            "left": null,
            "margin": null,
            "max_height": null,
            "max_width": null,
            "min_height": null,
            "min_width": null,
            "object_fit": null,
            "object_position": null,
            "order": null,
            "overflow": null,
            "overflow_x": null,
            "overflow_y": null,
            "padding": null,
            "right": null,
            "top": null,
            "visibility": null,
            "width": null
          }
        },
        "43e12252afee4488adb88e821d95d2ac": {
          "model_module": "@jupyter-widgets/controls",
          "model_name": "VBoxModel",
          "model_module_version": "1.5.0",
          "state": {
            "_dom_classes": [
              "widget-interact"
            ],
            "_model_module": "@jupyter-widgets/controls",
            "_model_module_version": "1.5.0",
            "_model_name": "VBoxModel",
            "_view_count": null,
            "_view_module": "@jupyter-widgets/controls",
            "_view_module_version": "1.5.0",
            "_view_name": "VBoxView",
            "box_style": "",
            "children": [
              "IPY_MODEL_337f4c1f39be4f1aba001a2f94bb25e5",
              "IPY_MODEL_e46db83f53ce47cdbe59e85c1b21ec28"
            ],
            "layout": "IPY_MODEL_dcad4e3566784378a24dece425f672b7"
          }
        },
        "337f4c1f39be4f1aba001a2f94bb25e5": {
          "model_module": "@jupyter-widgets/controls",
          "model_name": "DropdownModel",
          "model_module_version": "1.5.0",
          "state": {
            "_dom_classes": [],
            "_model_module": "@jupyter-widgets/controls",
            "_model_module_version": "1.5.0",
            "_model_name": "DropdownModel",
            "_options_labels": [
              "100",
              "500",
              "2000"
            ],
            "_view_count": null,
            "_view_module": "@jupyter-widgets/controls",
            "_view_module_version": "1.5.0",
            "_view_name": "DropdownView",
            "description": "m",
            "description_tooltip": null,
            "disabled": false,
            "index": 0,
            "layout": "IPY_MODEL_9f47ee654adf4b0c8ef2673c18b289b0",
            "style": "IPY_MODEL_112a89df83c247b5a4508e90cc1b5842"
          }
        },
        "e46db83f53ce47cdbe59e85c1b21ec28": {
          "model_module": "@jupyter-widgets/output",
          "model_name": "OutputModel",
          "model_module_version": "1.0.0",
          "state": {
            "_dom_classes": [],
            "_model_module": "@jupyter-widgets/output",
            "_model_module_version": "1.0.0",
            "_model_name": "OutputModel",
            "_view_count": null,
            "_view_module": "@jupyter-widgets/output",
            "_view_module_version": "1.0.0",
            "_view_name": "OutputView",
            "layout": "IPY_MODEL_a18db405780a48fb9a50f8bed186f818",
            "msg_id": "",
            "outputs": [
              {
                "output_type": "stream",
                "name": "stdout",
                "text": [
                  "El error relativo porcentual de 100 repeticiones es: \n",
                  " 2.1595 \n",
                  "\n"
                ]
              }
            ]
          }
        },
        "dcad4e3566784378a24dece425f672b7": {
          "model_module": "@jupyter-widgets/base",
          "model_name": "LayoutModel",
          "model_module_version": "1.2.0",
          "state": {
            "_model_module": "@jupyter-widgets/base",
            "_model_module_version": "1.2.0",
            "_model_name": "LayoutModel",
            "_view_count": null,
            "_view_module": "@jupyter-widgets/base",
            "_view_module_version": "1.2.0",
            "_view_name": "LayoutView",
            "align_content": null,
            "align_items": null,
            "align_self": null,
            "border": null,
            "bottom": null,
            "display": null,
            "flex": null,
            "flex_flow": null,
            "grid_area": null,
            "grid_auto_columns": null,
            "grid_auto_flow": null,
            "grid_auto_rows": null,
            "grid_column": null,
            "grid_gap": null,
            "grid_row": null,
            "grid_template_areas": null,
            "grid_template_columns": null,
            "grid_template_rows": null,
            "height": null,
            "justify_content": null,
            "justify_items": null,
            "left": null,
            "margin": null,
            "max_height": null,
            "max_width": null,
            "min_height": null,
            "min_width": null,
            "object_fit": null,
            "object_position": null,
            "order": null,
            "overflow": null,
            "overflow_x": null,
            "overflow_y": null,
            "padding": null,
            "right": null,
            "top": null,
            "visibility": null,
            "width": null
          }
        },
        "9f47ee654adf4b0c8ef2673c18b289b0": {
          "model_module": "@jupyter-widgets/base",
          "model_name": "LayoutModel",
          "model_module_version": "1.2.0",
          "state": {
            "_model_module": "@jupyter-widgets/base",
            "_model_module_version": "1.2.0",
            "_model_name": "LayoutModel",
            "_view_count": null,
            "_view_module": "@jupyter-widgets/base",
            "_view_module_version": "1.2.0",
            "_view_name": "LayoutView",
            "align_content": null,
            "align_items": null,
            "align_self": null,
            "border": null,
            "bottom": null,
            "display": null,
            "flex": null,
            "flex_flow": null,
            "grid_area": null,
            "grid_auto_columns": null,
            "grid_auto_flow": null,
            "grid_auto_rows": null,
            "grid_column": null,
            "grid_gap": null,
            "grid_row": null,
            "grid_template_areas": null,
            "grid_template_columns": null,
            "grid_template_rows": null,
            "height": null,
            "justify_content": null,
            "justify_items": null,
            "left": null,
            "margin": null,
            "max_height": null,
            "max_width": null,
            "min_height": null,
            "min_width": null,
            "object_fit": null,
            "object_position": null,
            "order": null,
            "overflow": null,
            "overflow_x": null,
            "overflow_y": null,
            "padding": null,
            "right": null,
            "top": null,
            "visibility": null,
            "width": null
          }
        },
        "112a89df83c247b5a4508e90cc1b5842": {
          "model_module": "@jupyter-widgets/controls",
          "model_name": "DescriptionStyleModel",
          "model_module_version": "1.5.0",
          "state": {
            "_model_module": "@jupyter-widgets/controls",
            "_model_module_version": "1.5.0",
            "_model_name": "DescriptionStyleModel",
            "_view_count": null,
            "_view_module": "@jupyter-widgets/base",
            "_view_module_version": "1.2.0",
            "_view_name": "StyleView",
            "description_width": ""
          }
        },
        "a18db405780a48fb9a50f8bed186f818": {
          "model_module": "@jupyter-widgets/base",
          "model_name": "LayoutModel",
          "model_module_version": "1.2.0",
          "state": {
            "_model_module": "@jupyter-widgets/base",
            "_model_module_version": "1.2.0",
            "_model_name": "LayoutModel",
            "_view_count": null,
            "_view_module": "@jupyter-widgets/base",
            "_view_module_version": "1.2.0",
            "_view_name": "LayoutView",
            "align_content": null,
            "align_items": null,
            "align_self": null,
            "border": null,
            "bottom": null,
            "display": null,
            "flex": null,
            "flex_flow": null,
            "grid_area": null,
            "grid_auto_columns": null,
            "grid_auto_flow": null,
            "grid_auto_rows": null,
            "grid_column": null,
            "grid_gap": null,
            "grid_row": null,
            "grid_template_areas": null,
            "grid_template_columns": null,
            "grid_template_rows": null,
            "height": null,
            "justify_content": null,
            "justify_items": null,
            "left": null,
            "margin": null,
            "max_height": null,
            "max_width": null,
            "min_height": null,
            "min_width": null,
            "object_fit": null,
            "object_position": null,
            "order": null,
            "overflow": null,
            "overflow_x": null,
            "overflow_y": null,
            "padding": null,
            "right": null,
            "top": null,
            "visibility": null,
            "width": null
          }
        }
      }
    }
  },
  "nbformat": 4,
  "nbformat_minor": 0
}