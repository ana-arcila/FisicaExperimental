{
  "nbformat": 4,
  "nbformat_minor": 0,
  "metadata": {
    "colab": {
      "name": "Medicion_Esfera.ipynb",
      "provenance": [],
      "collapsed_sections": [
        "wLP2h_3b-GwQ",
        "Ffk1cc1t7n96"
      ],
      "include_colab_link": true
    },
    "kernelspec": {
      "name": "python3",
      "display_name": "Python 3"
    },
    "language_info": {
      "name": "python"
    }
  },
  "cells": [
    {
      "cell_type": "markdown",
      "metadata": {
        "id": "view-in-github",
        "colab_type": "text"
      },
      "source": [
        "<a href=\"https://colab.research.google.com/github/ana-arcila/FisicaExperimental/blob/main/FisExp2/Medicion_Esfera.ipynb\" target=\"_parent\"><img src=\"https://colab.research.google.com/assets/colab-badge.svg\" alt=\"Open In Colab\"/></a>"
      ]
    },
    {
      "cell_type": "markdown",
      "source": [
        "Nombre: Greither Scarleth Quinayás Muñoz, Ana Maria Arcila Ortiz\n"
      ],
      "metadata": {
        "id": "CbLX1nM00Aha"
      }
    },
    {
      "cell_type": "markdown",
      "source": [
        "Actividad 1: Propagación del error de una y varias variables, error\n",
        "\n",
        "dominante y combinación de resultados.\n",
        "\n",
        "Recomendación: Para facilitar el proceso de revisión en caso de errores es recomendable usar un\n",
        "notebook para efectuar los cálculos, así será claro qué fórmulas se usan.\n",
        "Para esta actividad se pretende determinar la densidad de un objeto y reportarla apropiadamente\n",
        "aplicando los conceptos de análisis de errores experimentales.\n",
        "Actividad 1: Propagación de error de una variable\n",
        "� Determinación del volumen.\n",
        "1. Determine el radio de la esfera, utilizando el calibrador de pie de rey.\n",
        "2. Reporte el valor central y el error estándar del radio de la esfera.\n",
        "3. Una vez tenga el valor del radio con su respectivo error, determine el volumen de la esfera.\n",
        "�� Comparación con otro método\n",
        "1. Determine el volumen de la esfera utilizando ahora una probeta graduada. Para esto debe\n",
        "llenar con agua la probeta hasta cierta altura, luego sumergir la esfera y finalmente restar la altura\n",
        "del líquido con la esfera sumergida y sin ella.\n",
        "2. Reporte el valor central y el error estándar del volumen de la esfera.\n",
        "3. Compare los resultados del volumen realizado en el apartado anterior con los resultados de\n",
        "este.\n",
        "4. ¿Qué puede concluir de los resultados del volumen obtenidos de diferentes maneras para la\n",
        "misma esfera?\n",
        "5. Cual método de medida para el volumen considera que es más exacto y por qué?\n",
        "� Determinación de la masa\n",
        "1. Determine la masa de la esfera, utilizando la balanza.\n",
        "2. Reporte el valor central y el error estándar del peso de la esfera.\n",
        "\n",
        "Actividad 2: Propagación de error para varias variables\n",
        "� Determinación de la densidad\n",
        "1. Utilizando los resultados obtenidos en las actividades 1, determine la densidad de la esfera.\n",
        "2. Reporte el valor central y el error estándar de la densidad de la esfera.\n",
        "3. Determine el valor de la densidad de la esfera, utilizando el procedimiento sugerido por Lyons.\n",
        "\n",
        "4. Determine el valor de la densidad de la esfera, utilizando el procedimiento con derivadas\n",
        "parciales.\n",
        "5. Realice un análisis comparativo de los resultados obtenidos usando el procedimiento de Lyons y\n",
        "el procedimiento con derivadas parciales.\n",
        "\n",
        "�� Análisis del error dominante\n",
        "1. Determine el error dominante de la densidad de la esfera.\n",
        "2. Según el resultado, ¿puede despreciar algún error de las variables directas y por qué?\n",
        "\n",
        "Actividad 6: Combinación de resultados – Promedio ponderado\n",
        "1. Con los resultados obtenidos por sus compañeros, reporte el valor de cada variable con su\n",
        "respectivo error.\n",
        "3. Qué puede concluir de los valores reportados por su equipo respectivo a los valores obtenidos\n",
        "por medio de la combinación de resultados (tenga presente que todos sus compañeros están\n",
        "midiendo en las mismas condiciones, con los mismos instrumentos y esferas con “las mismas\n",
        "características”)."
      ],
      "metadata": {
        "id": "haViR7akeNyi"
      }
    },
    {
      "cell_type": "code",
      "execution_count": 1,
      "metadata": {
        "id": "L7KAfQT-_Obs"
      },
      "outputs": [],
      "source": [
        "import pandas as pd\n",
        "import numpy as np\n",
        "df = pd.read_excel('https://docs.google.com/spreadsheets/d/e/2PACX-1vTsEstdD7ewgRmcL2okq8AC6Iky0TiKN2NmrOUPT2SspbQ6OFnzmMFKRBazdANmvqE3EjCe5ZEPgPQ7/pub?output=xlsx')"
      ]
    },
    {
      "cell_type": "code",
      "source": [
        "import numpy as np\n",
        "\n",
        "diametro_avg = df['Diametro (mm)'][8]\n",
        "volumen_avg = df['Volumen(ml)'][8]\n",
        "masa_avg = df['Masa(g)'][8]\n",
        "densidad_avg = df['densidad (g/cm^3)'][8]\n",
        "\n",
        "def desvEst(n):\n",
        "  return np.std(df[n][:8])\n",
        "\n",
        "Medidas = ['Diametro (mm)', 'Volumen(ml)', 'Masa(g)', 'densidad (g/cm^3)']\n",
        "\n",
        "Std = desvEst(Medidas)"
      ],
      "metadata": {
        "id": "ijCBv9Bg2cOv"
      },
      "execution_count": 2,
      "outputs": []
    },
    {
      "cell_type": "markdown",
      "source": [
        "## Actividad 1:"
      ],
      "metadata": {
        "id": "eCs2hFWsdnHx"
      }
    },
    {
      "cell_type": "code",
      "source": [
        "#ACTIVIDAD 1 determinar el valor central y error estandar del radio de la esfera (medida con el pie de rey )\n",
        "def Radio(n):\n",
        "   return (df['Diametro (mm)'][:8]/2) \n",
        "R=Radio(df['Diametro (mm)'])/10 #Radio en cm\n",
        "promR=np.mean(R)\n",
        "ErrStd=np.std(R)\n",
        "\n",
        "print('El valor central de los radios medidos es',round(promR,2), 'cm')\n",
        "print('El error estandar del radio de la esfera es ',ErrStd)"
      ],
      "metadata": {
        "id": "ph60MIPq8KdW",
        "colab": {
          "base_uri": "https://localhost:8080/"
        },
        "outputId": "987d1a46-5a9b-48db-dc3a-8b728121a7ee"
      },
      "execution_count": 3,
      "outputs": [
        {
          "output_type": "stream",
          "name": "stdout",
          "text": [
            "El valor central de los radios medidos es 1.58 cm\n",
            "El error estandar del radio de la esfera es  0.002724311839712863\n"
          ]
        }
      ]
    },
    {
      "cell_type": "code",
      "source": [
        "#Volumen de la esfera con pie de rey\n",
        "volEr=(4/3)*np.pi*promR**3 #cm^3\n",
        "print('El volumen de la esfera con el pie de rey es',volEr)"
      ],
      "metadata": {
        "colab": {
          "base_uri": "https://localhost:8080/"
        },
        "id": "eZvv8waHL_Vk",
        "outputId": "ca5f5b20-7bf7-427e-d587-ffb84eb03ac7"
      },
      "execution_count": 4,
      "outputs": [
        {
          "output_type": "stream",
          "name": "stdout",
          "text": [
            "El volumen de la esfera con el pie de rey es 16.58078533934801\n"
          ]
        }
      ]
    },
    {
      "cell_type": "code",
      "source": [
        "#comparación con el otro método \n",
        "volEp=df['Volumen(ml)']\n",
        "promV=np.mean(volEp)\n",
        "Errst=np.std(volEp)\n",
        "print('El valor central de los  volumenes es ',volumen_avg)\n",
        "print('El error estandar  es ',Std[1])"
      ],
      "metadata": {
        "colab": {
          "base_uri": "https://localhost:8080/"
        },
        "id": "IYh8kTOVM341",
        "outputId": "116f253d-eb23-4fce-d6ef-182a54b34047"
      },
      "execution_count": 5,
      "outputs": [
        {
          "output_type": "stream",
          "name": "stdout",
          "text": [
            "El valor central de los  volumenes es  16.25\n",
            "El error estandar  es  1.1989578808281798\n"
          ]
        }
      ]
    },
    {
      "cell_type": "markdown",
      "source": [
        "Teniendo en cuenta los resultados obtenidos se puede ver que el volumen hallado de manera indirecta (con el radio de la esfera y la ecuación $v=\\frac{4}{3}\\pi r^{3}$ ) es mayor que el hallado con la probeta.\n",
        "Este último se vío afectado por un error aleatorio debido a que en el momento de introducir la esfera, cierta cantidad de agua salía disparada causando así el error."
      ],
      "metadata": {
        "id": "F7p7RvjDRBuS"
      }
    },
    {
      "cell_type": "code",
      "source": [
        "#Determinación de la masa en gramos\n",
        "print('El valor central de las masas es ',masa_avg)\n",
        "print('El error estandar  es ',Std[2])"
      ],
      "metadata": {
        "colab": {
          "base_uri": "https://localhost:8080/"
        },
        "id": "BNuEAz36Od2m",
        "outputId": "5890d21f-e195-4cdf-9955-f663d4d2c223"
      },
      "execution_count": 6,
      "outputs": [
        {
          "output_type": "stream",
          "name": "stdout",
          "text": [
            "El valor central de las masas es  130.3125\n",
            "El error estandar  es  0.033071891388305505\n"
          ]
        }
      ]
    },
    {
      "cell_type": "markdown",
      "source": [
        "#Actividad 2:"
      ],
      "metadata": {
        "id": "UaWmfv6J8wX3"
      }
    },
    {
      "cell_type": "code",
      "source": [
        "errErr = 1 / np.sqrt(2 * len(df['densidad (g/cm^3)'])-2)\n",
        "errErr"
      ],
      "metadata": {
        "colab": {
          "base_uri": "https://localhost:8080/"
        },
        "id": "DOJZSB50-mAw",
        "outputId": "53e25f42-f59f-4ddb-90d8-e13ce49b637d"
      },
      "execution_count": 7,
      "outputs": [
        {
          "output_type": "execute_result",
          "data": {
            "text/plain": [
              "0.25"
            ]
          },
          "metadata": {},
          "execution_count": 7
        }
      ]
    },
    {
      "cell_type": "code",
      "source": [
        "print( \"Densidad con probeta: %.1f g/cm^3 +/- %.1f g/cm^3\"%(densidad_avg, Std[3]))"
      ],
      "metadata": {
        "id": "9fKKVk_dBg0j",
        "colab": {
          "base_uri": "https://localhost:8080/"
        },
        "outputId": "99e220e4-9979-450c-fe47-5c873df90cba"
      },
      "execution_count": 8,
      "outputs": [
        {
          "output_type": "stream",
          "name": "stdout",
          "text": [
            "Densidad con probeta: 8.0 g/cm^3 +/- 0.6 g/cm^3\n"
          ]
        }
      ]
    },
    {
      "cell_type": "markdown",
      "source": [
        "##Con la probeta:"
      ],
      "metadata": {
        "id": "wLP2h_3b-GwQ"
      }
    },
    {
      "cell_type": "code",
      "source": [
        "\n",
        "\n",
        "errDens = np.sqrt((1 / volumen_avg) * (1 / volumen_avg) * Std[2] * Std[2] + (masa_avg / (volumen_avg * volumen_avg) * masa_avg / (volumen_avg * volumen_avg) * Std[1] * Std[1]))\n",
        "print(errDens, Std[3])"
      ],
      "metadata": {
        "colab": {
          "base_uri": "https://localhost:8080/"
        },
        "id": "DB1xlGEk_ll8",
        "outputId": "dac2d9d8-3b41-421c-e9b0-6bc154489c1b"
      },
      "execution_count": 9,
      "outputs": [
        {
          "output_type": "stream",
          "name": "stdout",
          "text": [
            "0.5916785727823205 0.6062029944077708\n"
          ]
        }
      ]
    },
    {
      "cell_type": "code",
      "source": [
        "\"\"\"\n",
        "Procedimiento sugerido por Lyons:\n",
        "\"\"\"\n",
        "\n",
        "denMax = (masa_avg + df['error (g)'][0]) / (volumen_avg - df['Error(ml)'][0])\n",
        "denMin = (masa_avg - df['error (g)'][0]) / (volumen_avg + df['Error(ml)'][0])\n",
        "deltaMax = denMax - densidad_avg \n",
        "deltaMin =  densidad_avg - denMin\n",
        "\n",
        "print(densidad_avg, deltaMin, deltaMax) "
      ],
      "metadata": {
        "colab": {
          "base_uri": "https://localhost:8080/"
        },
        "id": "rGrz8sMOA4L5",
        "outputId": "534af942-8113-4508-dfb5-0fe381799478"
      },
      "execution_count": 10,
      "outputs": [
        {
          "output_type": "stream",
          "name": "stdout",
          "text": [
            "8.019230769 0.8842992621506847 1.132523616964912\n"
          ]
        }
      ]
    },
    {
      "cell_type": "markdown",
      "source": [
        " $\\rho = 8.0_{0.9}^{1.1}$"
      ],
      "metadata": {
        "id": "fCrpE35lCHa4"
      }
    },
    {
      "cell_type": "code",
      "source": [
        "\"\"\"\n",
        "Por derivadas parciales:\n",
        "\"\"\"\n",
        "\n",
        "errDen = np.sqrt(((1 / volumen_avg) ** 2 * df['error (g)'][0] ** 2) + ((masa_avg/(volumen_avg ** 2))**2 * df['Error(ml)'][0] ** 2))\n",
        "\n",
        "print(\"densidad = %.1f +/- %.1f\"%(densidad_avg, errDen))"
      ],
      "metadata": {
        "colab": {
          "base_uri": "https://localhost:8080/"
        },
        "id": "ChVA0qTUG_Uw",
        "outputId": "c3ed2358-626e-4866-9d29-dd97be4c4e98"
      },
      "execution_count": 11,
      "outputs": [
        {
          "output_type": "stream",
          "name": "stdout",
          "text": [
            "densidad = 8.0 +/- 1.0\n"
          ]
        }
      ]
    },
    {
      "cell_type": "markdown",
      "source": [
        "##Con el radio"
      ],
      "metadata": {
        "id": "ZPye3tTzJZ0E"
      }
    },
    {
      "cell_type": "code",
      "source": [
        "densR = masa_avg / volEr\n",
        "densR"
      ],
      "metadata": {
        "colab": {
          "base_uri": "https://localhost:8080/"
        },
        "id": "yyGIQEilzv9A",
        "outputId": "e1bec20f-49a1-437b-e560-f724a2919dd7"
      },
      "execution_count": 12,
      "outputs": [
        {
          "output_type": "execute_result",
          "data": {
            "text/plain": [
              "7.859247757749703"
            ]
          },
          "metadata": {},
          "execution_count": 12
        }
      ]
    },
    {
      "cell_type": "code",
      "source": [
        "\"\"\"\n",
        "Procedimiento sugerido por Lyons:\n",
        "\"\"\"\n",
        "\n",
        "denMax = (masa_avg + df['error (g)'][0]) / (volEr - Errst)\n",
        "denMin = (masa_avg - df['error (g)'][0]) / (volEr + Errst)\n",
        "deltaMax = denMax - densidad_avg \n",
        "deltaMin =  densidad_avg - denMin\n",
        "\n",
        "print(densidad_avg, deltaMin, deltaMax) "
      ],
      "metadata": {
        "colab": {
          "base_uri": "https://localhost:8080/"
        },
        "id": "z8pxSJoQ4MtZ",
        "outputId": "9cc2bf80-a8a2-484c-f351-50830dbdc9fc"
      },
      "execution_count": 13,
      "outputs": [
        {
          "output_type": "stream",
          "name": "stdout",
          "text": [
            "8.019230769 0.6672335255014588 0.421490846469986\n"
          ]
        }
      ]
    },
    {
      "cell_type": "markdown",
      "source": [
        " $\\rho = 8.0_{0.7}^{0.4}$"
      ],
      "metadata": {
        "id": "dYx6jMDG41fx"
      }
    },
    {
      "cell_type": "code",
      "source": [
        "\"\"\"\n",
        "Por derivadas parciales:\n",
        "\"\"\"\n",
        "\n",
        "errDen = np.sqrt(((1 / volEr) ** 2 * df['error (g)'][0] ** 2) + ((masa_avg/(volEr ** 2))**2 * Errst ** 2))\n",
        "\n",
        "print(\"densidad = %.1f +/- %.1f\"%(densidad_avg, errDen))"
      ],
      "metadata": {
        "colab": {
          "base_uri": "https://localhost:8080/"
        },
        "id": "70Hc6n7R5Diw",
        "outputId": "d1f90df1-0b27-4b0e-c231-aa4fdf0a15b7"
      },
      "execution_count": 14,
      "outputs": [
        {
          "output_type": "stream",
          "name": "stdout",
          "text": [
            "densidad = 8.0 +/- 0.5\n"
          ]
        }
      ]
    },
    {
      "cell_type": "markdown",
      "source": [
        "#Analisis error dominante:"
      ],
      "metadata": {
        "id": "oij7Dm0B9QSL"
      }
    },
    {
      "cell_type": "markdown",
      "source": [
        "1. Ambos resultados obtenidos son muy similares. Sin embargo, el error que se puede ver en la densidad sacada con la probeta es mayor que el de la densidad sacada con el radio. Esto es probablemente porque la probeta tiene un error de $\\pm 2.0$mL (o un 12.31% de la medida sacada) mientras que el de el pie de rey es mucho menor, siendo de $\\pm 0.05$ mm (un 0.15% de la medida tomada)."
      ],
      "metadata": {
        "id": "jeGvbxgw5hTZ"
      }
    },
    {
      "cell_type": "markdown",
      "source": [
        "2. La desviación estándar de la masa es de 0.03g, siendo esta un 0.023% de la medida sacada con la balanza. Por esto, este error va a significar muy poco al lado de los errores de los volúmenes sacados y por esto, si se llegara a sacar de la medición, significaría muy poco."
      ],
      "metadata": {
        "id": "6JVha-fy92VJ"
      }
    },
    {
      "cell_type": "markdown",
      "source": [
        "#Actividad 6:"
      ],
      "metadata": {
        "id": "Ffk1cc1t7n96"
      }
    },
    {
      "cell_type": "code",
      "source": [
        "print(\"Diametro promedio = %.2f mm +/- %.2f mm\"%(diametro_avg, Std[0]))\n",
        "print(\"Volumen promedio = %.1f mL +/- %.f mL\"%(volumen_avg, Std[1]))\n",
        "print(\"Masa promedio = %.2f g +/- %.2f g\"%(masa_avg, Std[2]))"
      ],
      "metadata": {
        "colab": {
          "base_uri": "https://localhost:8080/"
        },
        "id": "pfBszM787sRJ",
        "outputId": "a2f1f5dc-e099-4d3f-89e3-cbd2b403733f"
      },
      "execution_count": 15,
      "outputs": [
        {
          "output_type": "stream",
          "name": "stdout",
          "text": [
            "Diametro promedio = 31.64 mm +/- 0.05 mm\n",
            "Volumen promedio = 16.2 mL +/- 1 mL\n",
            "Masa promedio = 130.31 g +/- 0.03 g\n"
          ]
        }
      ]
    },
    {
      "cell_type": "code",
      "source": [
        "\"\"\"\n",
        "Medidas sacadas por la mesa 6:\n",
        "\"\"\"\n",
        "\n",
        "print(\"Diametro = %.1f mm +/- %.2f mm\"%(df['Diametro (mm)'][4], df['error (mm)'][4]))\n",
        "print(\"Volumen = %.1f mL +/- %.f mL\"%(df['Volumen(ml)'][4], df['Error(ml)'][4]))\n",
        "print(\"Masa = %.1f g +/- %.1f g\"%(df['Masa(g)'][4], df['error (g)'][4]))"
      ],
      "metadata": {
        "colab": {
          "base_uri": "https://localhost:8080/"
        },
        "id": "IvkUgG9QAD9B",
        "outputId": "3bcebd20-fd4a-421b-fd1b-077ddf4dee48"
      },
      "execution_count": 16,
      "outputs": [
        {
          "output_type": "stream",
          "name": "stdout",
          "text": [
            "Diametro = 31.6 mm +/- 0.05 mm\n",
            "Volumen = 16.0 mL +/- 2 mL\n",
            "Masa = 130.3 g +/- 0.1 g\n"
          ]
        }
      ]
    },
    {
      "cell_type": "markdown",
      "source": [
        "Podemos ver que las medidas sacadas por el grupo son muy cercanas a los promedios y se encuentran dentro de los rangos dados por la desviación estandar. Esto quiere decir que si el experimento se repitiera bajo las mismas condiciones y con los mismos instrumentos, se deberían dar resultados similares."
      ],
      "metadata": {
        "id": "rCFIQ2TdCBhc"
      }
    }
  ]
}