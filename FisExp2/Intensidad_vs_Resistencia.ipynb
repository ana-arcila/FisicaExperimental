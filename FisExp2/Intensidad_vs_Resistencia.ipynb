{
  "cells": [
    {
      "cell_type": "markdown",
      "metadata": {
        "id": "view-in-github",
        "colab_type": "text"
      },
      "source": [
        "<a href=\"https://colab.research.google.com/github/ana-arcila/FisicaExperimental/blob/main/FisExp2/Intensidad_vs_Resistencia.ipynb\" target=\"_parent\"><img src=\"https://colab.research.google.com/assets/colab-badge.svg\" alt=\"Open In Colab\"/></a>"
      ]
    },
    {
      "cell_type": "markdown",
      "metadata": {
        "id": "-oMFAgStkYTp"
      },
      "source": [
        "#Tarea 2: mínimos cuadrados y ajuste de curva\n",
        "\n",
        "Nombre: Greither Scarleth Quinayás Muñoz, Ana Maria Arcila Ortiz\n",
        "\n",
        "_______________\n",
        "* Conocimientos necesarios para desarrollar esta tarea:\n",
        "  - Concepto de tendencia de los datos.\n",
        "  - Método de regresión de mínimos cuadrados.\n",
        "  - Ajuste lineal por mínimos cuadrados (caso particular de lo anterior).\n",
        "  - Interpolación.\n",
        "  - Reporte de medidas, análisis y propagación de error.\n",
        "\n",
        "Estos conceptos se trabajan en Ifan Hughes, Thomas Hase. *Measurements and their uncertainties : A practical Guide to Modern Error Analisys*.Chap.5. de forma rápida, por lo que es recomendable consultar varias fuentes para un entendimiento completo. Para ello se deja material extra en el classroom y puede tomar otras fuentes que crea convenientes.\n",
        "\n",
        "## Toma de datos experimentales\n",
        "Un fotoresistor o LDR (light-dependent resistor) es un dispositivo cuya resistencia varia en función de la luz recibida. Asuma que la relación entre estas varaibles la da la ecuación:\n",
        "$$I = \\frac{500000}{R}. \\quad(1)$$\n",
        "\n",
        "Realice un montaje experimental con base en la imagen para registrar con el Arduino un conjunto de datos de $I$ vs $R$.\n",
        "\n",
        "<img src=\"https://www.aranacorp.com/wp-content/uploads/pr-sensor-scheme_bb.png\" width=\"500\">\n",
        "\n",
        "Utilice como fuente de iluminación la linterna de su telefono y varie la intensidad de la luz simplemente alejando el celular del sensor.\n",
        "\n",
        "A continuación encuentra un código base para tomar los datos con el Arduino. (Notar que se debe completar el código)\n",
        "\n",
        "```cpp\n",
        "int sensorPin = A0;\n",
        "float V = 0;\n",
        "float Rldr=0;\n",
        "float lux =0;\n",
        "\n",
        "void setup() {\n",
        "  Serial.begin(?); // complete el código remplazando ? por un argumento adecuado\n",
        "}\n",
        "\n",
        "void loop() {\n",
        "  // read the value from the sensor:\n",
        "  V = analogRead(sensorPin) * ?; // complete el código remplazando ? por el factor de conversión adecuado\n",
        "  \n",
        "  Rldr = (5-V) * 1000 / V;\n",
        "  lux = 500 / (Rldr/1000);\n",
        "  \n",
        "  Serial.print(lux);\n",
        "  Serial.print(\"\\t\");\n",
        "  Serial.println(Rldr);\n",
        "  delay(?); // complete el código remplazando ? por un argumento adecuado\n",
        "}\n",
        "\n",
        "```\n",
        "## Análisis teórico \n",
        "A partir de los recursos porporcionados y valiendose de fuentes externas si es necesario, replique la deducción de los parametros de ajuste lineal por el método de mínimos cuadrados. Es decir, deduzca las expresiones para la pendiente y el intercepto de un ajuste lineal de la forma $y = mx + b$. \n",
        "\n",
        "$$ m = \\frac{N \\sum x_i y_i - \\sum x_i \\sum y_i}{N\\sum x_i^2 - \\big(\\sum x_i\\big)^2}$$\n",
        "\n",
        "$$ b = \\frac{\\sum x_i^2 \\sum y_i - \\sum x_i \\sum x_i y_i}{N\\sum x_i^2 - \\big(\\sum x_i\\big)^2}$$\n",
        "\n",
        "## Análisis de datos\n",
        "\n",
        "### 1.Grafica de datos experimentales:\n",
        "Graficar los datos experimentales. Verifique visualmente que sus datos presenten el comportamiento espereado. \n",
        "\n",
        "### 2. Ajuste lineal:\n",
        "Hacer un ajuste lineal a los datos usando las expresiones del método de mínimos cuadrados (*method of least squares*). Tenga en cuenta que para ello necesita linealiazar los datos. Graficar el ajuste sobre los datos experimentales. Imprima en pantalla los valores obtenidos para la pendiente y el intercepto con las unidades correctas y analice la calidad del ajuste por medio del coeficiente de correlación de pearson.\n",
        " \n",
        "Nota : Deje explicito cúales fueron las ecuaciones que uso para el cálculo de los parámetros de ajuste para facilitar la revisión y detección de errores.\n",
        "\n",
        "\n",
        "##3. Ajuste usando `curve_fit()`: \n",
        "Ajustar los datos, pero ahora usando la función `curve_fit()`. Grafique el ajuste sobre los datos experimentales e imprima en pantalla los valores obtenidos para la pendiente y el intercepto con las unidades correctas. Analice las diferencias con respecto al resultado del punto dos y concluya.\n",
        "\n",
        "\n",
        "## 4. Error en los parámetros de ajuste:\n",
        "Determinar el error en los parámetros de ajuste, usando las fórmulas teoricas del método de mínimos cuadrados y el error que entrega `curve_fit()`. Imprima en pantalla todos los resultados. Compare, analice y concluya. Finalmente, reporte correctamente el valor de la pendiente y el intercepto con su respectivo error, usando los valores obtenidos con `curve_fit()`.\n",
        "\n",
        "##5. Interpolación:\n",
        "Use el modelo ajustado y reporte el valor de resitencia que obtendría de iluminar el fotorresistor con $83$ lx . Utilice propagación del error para reportar correctamente (No olvide que el modelo lineal es función de los párametros de ajuste)."
      ]
    },
    {
      "cell_type": "markdown",
      "metadata": {
        "id": "dL9k9toU8mc0"
      },
      "source": [
        "# 1.Grafica de datos experimentales:"
      ]
    },
    {
      "cell_type": "code",
      "execution_count": 1,
      "metadata": {
        "id": "MauZ1cJRSWON",
        "colab": {
          "base_uri": "https://localhost:8080/"
        },
        "outputId": "81889880-69cc-4caf-d5a9-59d0f08b9d31"
      },
      "outputs": [
        {
          "output_type": "stream",
          "name": "stdout",
          "text": [
            "        x         y\n",
            "0  842.52    593.46\n",
            "1   98.95   5053.25\n",
            "2   42.99  11629.63\n",
            "3   25.15  19877.55\n",
            "4   16.15  30968.75\n",
            "5   10.99  45500.00\n",
            "6    8.96  55833.34\n"
          ]
        }
      ],
      "source": [
        "import pandas as pd\n",
        "\n",
        "df = pd.read_excel('https://docs.google.com/spreadsheets/d/e/2PACX-1vRUJBYk4ZbnkjIPUBihrayN4GfaJZqRVmQfCWjPaXEzMKUf033Mx-RUbqhvMFSQ4tXmM21hd8BHh370/pub?output=xlsx')\n",
        "\n",
        "print(df)"
      ]
    },
    {
      "cell_type": "code",
      "execution_count": 2,
      "metadata": {
        "id": "L7suEzlXTJwg",
        "colab": {
          "base_uri": "https://localhost:8080/",
          "height": 521
        },
        "outputId": "b2bedb8a-17e5-4547-9cb0-559d3a4d8c40"
      },
      "outputs": [
        {
          "output_type": "display_data",
          "data": {
            "text/plain": [
              "<Figure size 720x576 with 1 Axes>"
            ],
            "image/png": "[encoded data removed]"
          },
          "metadata": {
            "needs_background": "light"
          }
        }
      ],
      "source": [
        "import matplotlib.pyplot as plt\n",
        "\n",
        "Intensidad = df['x'].transpose().tolist()\n",
        "\n",
        "Resistencia = df['y'].transpose().tolist()\n",
        "\n",
        "plt.figure(figsize=(10,8))\n",
        "plt.plot(Resistencia,Intensidad,linewidth=3)\n",
        "plt.ylabel('Intensidad [ lx ]',fontsize=12)\n",
        "plt.xlabel('Resistencia[ Ω ]',fontsize=12)\n",
        "plt.title('Gráfico I vs R',fontsize=20)\n",
        "plt.grid(True)\n",
        "plt.show()"
      ]
    },
    {
      "cell_type": "markdown",
      "metadata": {
        "id": "jLVUJzNU8ft4"
      },
      "source": [
        "# 2. Ajuste lineal:"
      ]
    },
    {
      "cell_type": "markdown",
      "source": [
        "Las fórmulas usadas para el cálculo de los parámetros de ajuste son \n",
        "\n",
        "$$\\chi ^{2}=\\sum [y_i-(ax_i+b)]^{2}$$\n",
        "\n",
        "\n",
        "$$\\frac{d\\chi ^{2}}{da}=0$$                  \n",
        "      $$\\frac{d\\chi ^{2}}{db}=0$$   Resolviendo\n",
        "\n",
        "$$ m = \\frac{N \\sum x_i y_i - \\sum x_i \\sum y_i}{N\\sum x_i^2 - \\big(\\sum x_i\\big)^2}$$\n",
        "\n",
        "$$ b = \\frac{\\sum x_i^2 \\sum y_i - \\sum x_i \\sum x_i y_i}{N\\sum x_i^2 - \\big(\\sum x_i\\big)^2}$$\n"
      ],
      "metadata": {
        "id": "U3zSaFCrwBhp"
      }
    },
    {
      "cell_type": "code",
      "execution_count": 3,
      "metadata": {
        "id": "p1hnzPhbwZ4E"
      },
      "outputs": [],
      "source": [
        "from sympy import Symbol, Derivative, lambdify, diff, solve\n",
        "from scipy import optimize\n",
        "import numpy as np\n",
        "m = Symbol('m')\n",
        "b = Symbol('b')\n",
        "#S es 𝜒 (chi)\n",
        "S = 0\n",
        "for i in range(0, len(Resistencia)):\n",
        "  S += (np.log(Intensidad[i]) - m * np.log(Resistencia[i]) - b) ** 2\n",
        "\n",
        "\n",
        "ds_dm = diff(S, m)\n",
        "ds_db = diff(S, b) "
      ]
    },
    {
      "cell_type": "code",
      "execution_count": 4,
      "metadata": {
        "id": "w8GkHqAw4fk0",
        "colab": {
          "base_uri": "https://localhost:8080/"
        },
        "outputId": "9e75ff08-b31e-45dd-862e-cc798d03c804"
      },
      "outputs": [
        {
          "output_type": "stream",
          "name": "stdout",
          "text": [
            "La pendiente  obtenida es  -0.999930244214292 y el intercepto es  13.1218057467618\n"
          ]
        }
      ],
      "source": [
        "sol = solve([ds_dm, ds_db], (m, b))\n",
        "M = sol[m]\n",
        "B = sol[b]\n",
        "print(\"La pendiente  obtenida es \",M,\"y el intercepto es \",B)"
      ]
    },
    {
      "cell_type": "code",
      "execution_count": 5,
      "metadata": {
        "id": "oS9rmz5ZR2D9"
      },
      "outputs": [],
      "source": [
        "#coeficiente de correlación de pearson\n",
        "S=0\n",
        "for i in range(0, len(Resistencia)):\n",
        "  S += (np.log(Intensidad[i]) - M * np.log(Resistencia[i]) - B) ** 2\n"
      ]
    },
    {
      "cell_type": "code",
      "source": [
        "R2=1-(S/(len(Resistencia)*np.var(Intensidad)))\n",
        "print(\"el coeficiente de correlación de Pearson es \",R2)"
      ],
      "metadata": {
        "colab": {
          "base_uri": "https://localhost:8080/"
        },
        "id": "rfgksh7tJW1w",
        "outputId": "81a9b5a1-9a52-42f1-a962-6399ee03b708"
      },
      "execution_count": 6,
      "outputs": [
        {
          "output_type": "stream",
          "name": "stdout",
          "text": [
            "el coeficiente de correlación de Pearson es  0.999999999999532\n"
          ]
        }
      ]
    },
    {
      "cell_type": "code",
      "execution_count": 7,
      "metadata": {
        "id": "TBx7IzZd4hgr",
        "colab": {
          "base_uri": "https://localhost:8080/",
          "height": 556
        },
        "outputId": "ec34b7c5-6ba9-4bcd-e02e-342ee0d29188"
      },
      "outputs": [
        {
          "output_type": "stream",
          "name": "stderr",
          "text": [
            "/usr/local/lib/python3.7/dist-packages/ipykernel_launcher.py:2: RuntimeWarning: invalid value encountered in power\n",
            "  \n"
          ]
        },
        {
          "output_type": "display_data",
          "data": {
            "text/plain": [
              "<Figure size 720x576 with 1 Axes>"
            ],
            "image/png": "[encoded data removed]"
          },
          "metadata": {
            "needs_background": "light"
          }
        }
      ],
      "source": [
        "x = np.linspace(-700, 60000)\n",
        "y = x ** float(M) * np.exp(float(B))\n",
        "plt.figure(figsize=(10,8))\n",
        "plt.plot(Resistencia, Intensidad)\n",
        "plt.plot(x, y)\n",
        "plt.plot(Resistencia, Intensidad, 'ro')\n",
        "plt.ylabel('Intensidad [ lx ]',fontsize=12)\n",
        "plt.xlabel('Resistencia[ Ω ]',fontsize=12)\n",
        "plt.title('Gráfico I vs R',fontsize=20)\n",
        "plt.grid(True)"
      ]
    },
    {
      "cell_type": "markdown",
      "metadata": {
        "id": "3z0zGzPnLFzF"
      },
      "source": [
        "# 3. Ajuste usando curve_fit():"
      ]
    },
    {
      "cell_type": "code",
      "execution_count": 8,
      "metadata": {
        "id": "6j0rrxbcLGKF"
      },
      "outputs": [],
      "source": [
        "def f(x, a, b):\n",
        "  return x ** a * np.exp(b)"
      ]
    },
    {
      "cell_type": "code",
      "execution_count": 9,
      "metadata": {
        "id": "7R4BaIy1G1Kd"
      },
      "outputs": [],
      "source": [
        "coeffs, _ = optimize.curve_fit(f, Resistencia, Intensidad)\n"
      ]
    },
    {
      "cell_type": "code",
      "execution_count": 10,
      "metadata": {
        "id": "bNz_ZZWxLZ0h",
        "colab": {
          "base_uri": "https://localhost:8080/"
        },
        "outputId": "a91fe408-e1c1-46f8-fb60-e149f7364261"
      },
      "outputs": [
        {
          "output_type": "stream",
          "name": "stdout",
          "text": [
            "La pendiente obtenida con curve_fit() es  -0.9999947514544134 y el intercepto es  13.122333749719962\n"
          ]
        }
      ],
      "source": [
        "print(\"La pendiente obtenida con curve_fit() es \",coeffs[0],\"y el intercepto es \",coeffs[1])"
      ]
    },
    {
      "cell_type": "markdown",
      "metadata": {
        "id": "Nhds_UZYL4Bo"
      },
      "source": [
        "Se puede concluir que los resultados obtenidos en el punto 2 son muy aproximados  a los valores obtenidos por la función Curve_fit() "
      ]
    },
    {
      "cell_type": "markdown",
      "metadata": {
        "id": "qZPTgrvCM_Rl"
      },
      "source": [
        "\n",
        "# 4. Error en los parámetros de ajuste:"
      ]
    },
    {
      "cell_type": "code",
      "execution_count": 11,
      "metadata": {
        "id": "TitAn0mofy8Z"
      },
      "outputs": [],
      "source": [
        "#Error en los parámetros de ajuste usando las fórmulas teóricas\n",
        "r=1/(len(Resistencia)-2)\n",
        "t=1/R2-1 \n",
        "IncM=M*((r*t)**(0.5))\n"
      ]
    },
    {
      "cell_type": "code",
      "source": [
        "c=0\n",
        "for i in range(0, len(Resistencia)):\n",
        "   c+= Resistencia[i]**2\n",
        "print(c)\n"
      ],
      "metadata": {
        "colab": {
          "base_uri": "https://localhost:8080/"
        },
        "id": "PEhDFCcmSx3H",
        "outputId": "2a076357-32aa-468a-ad0d-89754aea4bee"
      },
      "execution_count": 12,
      "outputs": [
        {
          "output_type": "stream",
          "name": "stdout",
          "text": [
            "6702928150.3916\n"
          ]
        }
      ]
    },
    {
      "cell_type": "code",
      "source": [
        "x2=c/len(Resistencia)\n",
        "IncB=IncM*np.sqrt(x2)\n",
        "perr =np.sqrt(np.diag(_))\n",
        "print(\"El error en los parámetros de ajuste usando las fórmulas teóricas son σm =\",IncM,\"σb=\",IncB)\n",
        "print(\"El error que entrega curve_fit() son \",perr[0],\"y\",perr[1])"
      ],
      "metadata": {
        "colab": {
          "base_uri": "https://localhost:8080/"
        },
        "id": "wTK7pfGoWg4b",
        "outputId": "6e607164-7da6-4cc0-a1b1-d0d05d053785"
      },
      "execution_count": 13,
      "outputs": [
        {
          "output_type": "stream",
          "name": "stdout",
          "text": [
            "El error en los parámetros de ajuste usando las fórmulas teóricas son σm = -3.06015274750370e-7 σb= -0.00946948514072726\n",
            "El error que entrega curve_fit() son  1.5016660353433171e-05 y 9.665453323974376e-05\n"
          ]
        }
      ]
    },
    {
      "cell_type": "markdown",
      "source": [
        "El valor de la pendiente es -0.99 ± 1.50e-05 y el intercepto es  13.12 ±  9.67e-05"
      ],
      "metadata": {
        "id": "IvpikP_P7E1E"
      }
    },
    {
      "cell_type": "markdown",
      "source": [
        "# 5. Interpolación:\n"
      ],
      "metadata": {
        "id": "_VtCD6T17NVQ"
      }
    },
    {
      "cell_type": "code",
      "execution_count": 14,
      "metadata": {
        "id": "3YqJOG-KoVdA"
      },
      "outputs": [],
      "source": [
        "from scipy.optimize import fsolve\n",
        "def func(x):\n",
        "  return [x[0]**float(M) * np.exp(float(B))-83]\n",
        "root=fsolve(func,[1])\n",
        "x=root[0]\n",
        "dy_dm=np.exp(float(B))*x**float(M)*np.log(x)\n",
        "dy_db=x**float(M)*np.exp(float(B))"
      ]
    },
    {
      "cell_type": "code",
      "source": [
        "import math\n",
        "#propagación de errores\n",
        "Error=math.sqrt((dy_dm**2*IncM**2)+(dy_db**2*IncB**2))\n",
        "Error"
      ],
      "metadata": {
        "id": "XwUJlAf5g838",
        "colab": {
          "base_uri": "https://localhost:8080/"
        },
        "outputId": "6a0e303a-8bc0-4dfd-c006-9696f2592bd2"
      },
      "execution_count": 15,
      "outputs": [
        {
          "output_type": "execute_result",
          "data": {
            "text/plain": [
              "0.7859672977690999"
            ]
          },
          "metadata": {},
          "execution_count": 15
        }
      ]
    },
    {
      "cell_type": "markdown",
      "source": [
        "El valor de resistencia que se obtendría de iluminar el fotorresistor con 83 lx sería (6024.4 ± 0.8)Ω ohmios"
      ],
      "metadata": {
        "id": "4a7m-4-hx8Av"
      }
    }
  ],
  "metadata": {
    "colab": {
      "collapsed_sections": [
        "qZPTgrvCM_Rl"
      ],
      "name": "Intensidad_vs_Resistencia.ipynb",
      "provenance": [],
      "include_colab_link": true
    },
    "kernelspec": {
      "display_name": "Python 3",
      "name": "python3"
    }
  },
  "nbformat": 4,
  "nbformat_minor": 0
}